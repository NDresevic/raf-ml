{
  "nbformat": 4,
  "nbformat_minor": 0,
  "metadata": {
    "colab": {
      "name": "04A_Instance_based_metode.ipynb",
      "version": "0.3.2",
      "provenance": [],
      "collapsed_sections": [],
      "toc_visible": true
    },
    "kernelspec": {
      "display_name": "Python 3",
      "language": "python",
      "name": "python3"
    }
  },
  "cells": [
    {
      "metadata": {
        "slideshow": {
          "slide_type": "slide"
        },
        "id": "2l-OFjBU_2D6",
        "colab_type": "text"
      },
      "cell_type": "markdown",
      "source": [
        "# Instance-based metode"
      ]
    },
    {
      "metadata": {
        "id": "jglSyj3pCaKa",
        "colab_type": "text"
      },
      "cell_type": "markdown",
      "source": [
        "**\"A family of learning algorithms that, instead of performing explicit generalization, compares new problem instances with instances seen in training\"**"
      ]
    },
    {
      "metadata": {
        "slideshow": {
          "slide_type": "slide"
        },
        "id": "OFJr40a4_2D8",
        "colab_type": "text"
      },
      "cell_type": "markdown",
      "source": [
        "# Pregled\n",
        "* Instance-based metode klasifikacije\n",
        "* k-nearest neighbours (k-NN)\n",
        "  * Weighted k-NN\n",
        "* Lokalno-težinska regresija (LWR)"
      ]
    },
    {
      "metadata": {
        "slideshow": {
          "slide_type": "skip"
        },
        "id": "nk6vDjq9_2EH",
        "colab_type": "text"
      },
      "cell_type": "markdown",
      "source": [
        "# Instance-based metode klasifikacije\n",
        "\n",
        "**Instance-based metode** su metode koje ne grade eksplicitan model podataka (u vidu neke funkcije) koji generalizuje. Umesto toga, klasifikacija se vrši na osnovu skupa instanci za trening, koje se čuvaju i bivaju upotrebljene tek kada je potrebno da se izvrši sama klasifikacija."
      ]
    },
    {
      "metadata": {
        "id": "IY3gAeMQqDpo",
        "colab_type": "text"
      },
      "cell_type": "markdown",
      "source": [
        "# k-nearest neighbours\n",
        "**k-nearest neighbours** tj. **k-NN** je tehnika koja klasifikuje nepoznate primere na osnovu k najbližih suseda (uglavnom po euklidskoj distanci u prostoru feature-a). Dakle, umesto treninga, nepoznati primer $x$ klasifikujemo u klasu koja se najčešće pojavljuje u najbližih k trening primera. Ovo čini da faza treninga bude nepostojeća, ali da faza predikcije za novi primer bude u nekim slučajevima veoma spora.\n",
        "\n",
        "U **Weighted k-NN** varijaciji glas svakog od k suseda ne dobija istu težinu tj. uvodimo eksplicitne težine koje su obrnuto proporcionalne udaljenosti (uglavnom 1/d).\n",
        "\n",
        "Pored načina na koji se dodeljuju težine, jedini parametar modela je **k**. Ovaj parametar predstavlja balans između posmatranja lokalne i globalne strukture: ukoliko koristimo **k=1** model prestaje da bude otporan na šum tj. prisustvo outlier-a. Sa druge strane, povećavanje **k** donosi bolje rezultate do neke granice, nakon čega previše uzimamo u obzir globalna svojstva.\n",
        "\n",
        "Jedna od čestih primena k-NN modela je u sistemima za preporuku (recommender systems) tj. u metodama kolaborativnog filtriranja (collaborative filtering). Npr. na osnovu skupa podataka koji sadrži ocene velikog broja ljudi za određene filmove, možemo novom korisniku preporučiti film koji bi bio odgovarajući.\n",
        "\n",
        "U našem slučaju pogledaćemo k-NN u praksi na primeru klasifikacije ručno pisanih cifara ([MNIST](http://yann.lecun.com/exdb/mnist/) skup podataka)."
      ]
    },
    {
      "metadata": {
        "id": "IDSgrPpcr8Yj",
        "colab_type": "text"
      },
      "cell_type": "markdown",
      "source": [
        "## k-NN za MNIST"
      ]
    },
    {
      "metadata": {
        "id": "Ns7j5_WrspI-",
        "colab_type": "code",
        "outputId": "7abfe329-7aac-4069-cb75-6a81ef6436df",
        "colab": {
          "base_uri": "https://localhost:8080/",
          "height": 511
        }
      },
      "cell_type": "code",
      "source": [
        "import numpy as np\n",
        "import tensorflow as tf\n",
        "import matplotlib.pyplot as plt\n",
        "%matplotlib inline\n",
        "\n",
        "\n",
        "class KNN:\n",
        "  \n",
        "  def __init__(self, nb_features, nb_classes, data, k, weighted = False):\n",
        "    self.nb_features = nb_features\n",
        "    self.nb_classes = nb_classes\n",
        "    self.data = data\n",
        "    self.k = k\n",
        "    self.weight = weighted\n",
        "    \n",
        "    # Gradimo model, X je matrica podataka a Q je vektor koji predstavlja upit.\n",
        "    self.X = tf.placeholder(shape=(None, nb_features), dtype=tf.float32)\n",
        "    self.Y = tf.placeholder(shape=(None), dtype=tf.int32)\n",
        "    self.Q = tf.placeholder(shape=(nb_features), dtype=tf.float32)\n",
        "    \n",
        "    # Racunamo kvadriranu euklidsku udaljenost i uzimamo minimalnih k.\n",
        "    dists = tf.sqrt(tf.reduce_sum(tf.square(tf.subtract(self.X, self.Q)), \n",
        "                                  axis=1))\n",
        "    _, idxs = tf.nn.top_k(-dists, self.k)  \n",
        "    \n",
        "    self.classes = tf.gather(self.Y, idxs)\n",
        "    self.dists = tf.gather(dists, idxs)\n",
        "    \n",
        "    if weighted:\n",
        "       self.w = 1 / self.dists  # Paziti na deljenje sa nulom.\n",
        "    else:\n",
        "       self.w = tf.fill([k], 1/k)\n",
        "    \n",
        "    # Svaki red mnozimo svojim glasom i sabiramo glasove po kolonama.\n",
        "    w_col = tf.reshape(self.w, (k, 1))\n",
        "    self.classes_one_hot = tf.one_hot(self.classes, nb_classes)\n",
        "    self.scores = tf.reduce_sum(w_col * self.classes_one_hot, axis=0)\n",
        "    \n",
        "    # Klasa sa najvise glasova je hipoteza.\n",
        "    self.hyp = tf.argmax(self.scores)\n",
        "  \n",
        "  # Ako imamo odgovore za upit racunamo i accuracy.\n",
        "  def predict(self, query_data):\n",
        "    \n",
        "    with tf.Session() as sess:\n",
        "      sess.run(tf.global_variables_initializer())\n",
        "     \n",
        "      # nb_queries = query_data['x'].shape[0]\n",
        "      \n",
        "      # Pokretanje na svih 10000 primera bi trajalo predugo,\n",
        "      # pa pokrecemo samo prvih 100.\n",
        "      nb_queries = 100\n",
        "      \n",
        "      matches = 0\n",
        "      for i in range(nb_queries):\n",
        "        hyp_val = sess.run(self.hyp, feed_dict = {self.X: self.data['x'], \n",
        "                                                  self.Y: self.data['y'], \n",
        "                                                 self.Q: query_data['x'][i]})\n",
        "        if query_data['y'] is not None:\n",
        "          actual = query_data['y'][i]\n",
        "          match = (hyp_val == actual)\n",
        "          if match:\n",
        "            matches += 1\n",
        "          if i % 10 == 0:\n",
        "            print('Test example: {}/{}| Predicted: {}| Actual: {}| Match: {}'\n",
        "                 .format(i+1, nb_queries, hyp_val, actual, match))\n",
        "      \n",
        "      accuracy = matches / nb_queries\n",
        "      print('{} matches out of {} examples'.format(matches, nb_queries))\n",
        "      return accuracy\n",
        "    \n",
        "\n",
        "# Ucitavamo MNIST skup podataka.\n",
        "mnist = tf.keras.datasets.mnist\n",
        "(train_x, train_y), (test_x, test_y) = mnist.load_data()\n",
        "\n",
        "nb_train = len(train_y)\n",
        "nb_test = len(test_y)\n",
        "print(nb_train, nb_test)\n",
        "print(train_y)\n",
        "\n",
        "# Prikazujemo prvu sliku.\n",
        "plt.imshow(train_x[0], cmap='Greys')  \n",
        "\n",
        "train_x = np.reshape(train_x, [nb_train, -1])\n",
        "test_x = np.reshape(test_x, [nb_test, -1])\n",
        "\n",
        "# Pokrecemo kNN na test skupu.\n",
        "nb_features = 28 * 28\n",
        "nb_classes = 10\n",
        "k = 5\n",
        "train_data = {'x': train_x, 'y': train_y}\n",
        "knn = KNN(nb_features, nb_classes, train_data, k, weighted = False)\n",
        "accuracy = knn.predict({'x': test_x, 'y': test_y})\n",
        "print('Test set accuracy: ', accuracy)\n",
        "\n"
      ],
      "execution_count": 5,
      "outputs": [
        {
          "output_type": "stream",
          "text": [
            "60000 10000\n",
            "[5 0 4 ... 5 6 8]\n",
            "Test example: 1/100| Predicted: 7| Actual: 7| Match: True\n",
            "Test example: 11/100| Predicted: 0| Actual: 0| Match: True\n",
            "Test example: 21/100| Predicted: 9| Actual: 9| Match: True\n",
            "Test example: 31/100| Predicted: 3| Actual: 3| Match: True\n",
            "Test example: 41/100| Predicted: 1| Actual: 1| Match: True\n",
            "Test example: 51/100| Predicted: 6| Actual: 6| Match: True\n",
            "Test example: 61/100| Predicted: 7| Actual: 7| Match: True\n",
            "Test example: 71/100| Predicted: 7| Actual: 7| Match: True\n",
            "Test example: 81/100| Predicted: 7| Actual: 7| Match: True\n",
            "Test example: 91/100| Predicted: 3| Actual: 3| Match: True\n",
            "99 matches out of 100 examples\n",
            "Test set accuracy:  0.99\n"
          ],
          "name": "stdout"
        },
        {
          "output_type": "display_data",
          "data": {
            "image/png": "[encoded data removed]",
            "text/plain": [
              "<Figure size 432x288 with 1 Axes>"
            ]
          },
          "metadata": {
            "tags": []
          }
        }
      ]
    },
    {
      "metadata": {
        "id": "gvmrlF5S_2EN",
        "colab_type": "text"
      },
      "cell_type": "markdown",
      "source": [
        "# Lokalno-težinska regresija (LWR)\n",
        "\n",
        "**Lokalno-težinska regresija** (Locally-Weighted Regression, LWR) trenira novu (linearnu) regresiju za svaki upit. Pritom, u računanju funkcije troška (MSE) veća težina se daje bližim tačkama iz trening skupa. Formula za težinu je često $w(i) = \\exp({-\\frac{(x^{(i)} - x)^2}{2\\tau^2}})$ (nenormirana normalna raspodela sa $\\mu=x$ i $\\sigma^2=\\tau^2$). LWR dakle aproksimira podatke linearnom funkcijom (kao i standardna linearna regresija) ali se više fokusira na lokalne pravilnosti time što daje prednost bliskim trening primerima.\n",
        "\n",
        "[Više o LWR](https://see.stanford.edu/materials/aimlcs229/cs229-notes1.pdf)\n"
      ]
    },
    {
      "metadata": {
        "slideshow": {
          "slide_type": "fragment"
        },
        "id": "qthAtzts_2EI",
        "colab_type": "code",
        "colab": {}
      },
      "cell_type": "code",
      "source": [
        "# TODO"
      ],
      "execution_count": 0,
      "outputs": []
    }
  ]
}