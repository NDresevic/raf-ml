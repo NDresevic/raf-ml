{
  "nbformat": 4,
  "nbformat_minor": 0,
  "metadata": {
    "colab": {
      "name": "01_02_Tensorflow.ipynb",
      "version": "0.3.2",
      "provenance": [],
      "collapsed_sections": []
    },
    "kernelspec": {
      "display_name": "Python 3",
      "language": "python",
      "name": "python3"
    }
  },
  "cells": [
    {
      "metadata": {
        "slideshow": {
          "slide_type": "slide"
        },
        "id": "2l-OFjBU_2D6",
        "colab_type": "text"
      },
      "cell_type": "markdown",
      "source": [
        "# Uvod u TensorFlow"
      ]
    },
    {
      "metadata": {
        "id": "jglSyj3pCaKa",
        "colab_type": "text"
      },
      "cell_type": "markdown",
      "source": [
        "**“Open source software library for \n",
        "numerical computation using data flow graphs”**"
      ]
    },
    {
      "metadata": {
        "slideshow": {
          "slide_type": "slide"
        },
        "id": "OFJr40a4_2D8",
        "colab_type": "text"
      },
      "cell_type": "markdown",
      "source": [
        "# Pregled\n",
        "* Osnovni koncepti\n",
        "  * Graf i sesija\n",
        "  * Tenzori\n",
        "  * Konstante\n",
        "  * Varijable\n",
        "  * Placeholderi\n",
        "* Tensorboard\n",
        "* Čuvanje i učitavanje"
      ]
    },
    {
      "metadata": {
        "slideshow": {
          "slide_type": "slide"
        },
        "id": "05EXY5vB_2D_",
        "colab_type": "text"
      },
      "cell_type": "markdown",
      "source": [
        "#Pre svega, import"
      ]
    },
    {
      "metadata": {
        "slideshow": {
          "slide_type": "fragment"
        },
        "id": "k-zgX3QE_2EA",
        "colab_type": "code",
        "colab": {}
      },
      "cell_type": "code",
      "source": [
        "import tensorflow as tf"
      ],
      "execution_count": 0,
      "outputs": []
    },
    {
      "metadata": {
        "slideshow": {
          "slide_type": "skip"
        },
        "id": "nk6vDjq9_2EH",
        "colab_type": "text"
      },
      "cell_type": "markdown",
      "source": [
        "# Graf i sesija\n",
        "\n",
        "Svaki **TensorFlow** program se sastoji iz dva dela:\n",
        "\n",
        "1.   Kreiranje grafa izračunavanja (computational graph), u toku kog se **ne izvršavaju izračunavanja**.\n",
        "2.   Izvršavanje izračunavanja u kontekstu sesije.\n",
        "\n",
        "**Graf izračunavanja** je način za predstavu svih izračunavanja koja želimo da izvršimo. Čvorovi grafa transformišu podatke i nazivaju se operacije (**op-ovi**), a granama između čvorova \"teku\" ti podaci u vidu **tenzora** (otuda ime TensorFlow). O tenzorima će biti više reči u narednoj sekciji.\n",
        "\n",
        "**Sesija** je objekat koji enkapsulira okruženje u kom se izvršavaju operacije i konačno dobijaju vrednosti u vidu tenzora. Svaki put kada želimo da pokrećemo izračunavanja nad izgrađenim grafom moramo koristiti sesiju (klasa `tf.Session`)."
      ]
    },
    {
      "metadata": {
        "id": "gvmrlF5S_2EN",
        "colab_type": "text"
      },
      "cell_type": "markdown",
      "source": [
        "# Tenzori\n",
        "\n",
        "**Tenzor** je uopštenje matrica i vektora na proizvoljan broj dimenzija. **Rang/rank** predstavlja broj dimenzija tenzora. Pritom razlikujemo:\n",
        "* Tenzore ranga 0 - skalari\n",
        "* Tenzore ranga 1 - vektori\n",
        "* Tenzore ranga 2 - matrice\n",
        "* Tenzore ranga 3 - \"matrice u prostoru\"\n",
        "* ...\n",
        "\n",
        "Svi rezultati op-ova u TensorFlow-u su predstavljeni u vidu tenzora (klasa `tf.Tensor`). Tim tenzorima manipulišemo i nad njima izvršavamo operacije. Svaki tenzor ima:\n",
        "* Tip (dtype): float32, int32, string...\n",
        "* Oblik (shape): n-torka celih brojeva koja označava dužinu tenzora po odgovarajućoj dimenziji.\n",
        "\n",
        "Konstante, promenljive i placeholderi koje ćemo u nastavku uvesti su tri glavna tipa tenzora koji se koriste u TensorFlow-u."
      ]
    },
    {
      "metadata": {
        "id": "95Sfd7ziYXGy",
        "colab_type": "text"
      },
      "cell_type": "markdown",
      "source": [
        "# Konstante\n",
        "\n",
        "**Konstante** su tenzori čije vrednosti su uvek iste i sačuvane su u samoj definiciji grafa.\n",
        "\n",
        "Konstante se kreiraju op-om [`tf.constant`](https://www.tensorflow.org/api_docs/python/tf/constant) pri čijem se pozivu pored vrednosti mogu opciono navesti i tip podataka, oblik i ime rezultujućeg tenzora.\n",
        "\n"
      ]
    },
    {
      "metadata": {
        "id": "Kxm5-uJxaF0K",
        "colab_type": "text"
      },
      "cell_type": "markdown",
      "source": [
        "# Prvi primer TensorFlow programa\n"
      ]
    },
    {
      "metadata": {
        "slideshow": {
          "slide_type": "fragment"
        },
        "id": "qthAtzts_2EI",
        "colab_type": "code",
        "outputId": "044c5c31-dd45-42c6-fa7e-0abce43a06d2",
        "colab": {
          "base_uri": "https://localhost:8080/",
          "height": 71
        }
      },
      "cell_type": "code",
      "source": [
        "# Gradimo jednostavan graf od tri op-a. Primetiti kako tip moze biti dat \n",
        "# eksplicitno ili implicitno.\n",
        "a = tf.constant(5.0)  \n",
        "b = tf.constant(6, dtype=tf.float32, name='B')\n",
        "c = tf.multiply(a, b)\n",
        "print(c)\n",
        "\n",
        "# Primetimo da stampanje promenljive 'c' ne vraca vrednost vec objekat klase \n",
        "# tf.Tensor - ovo se desava jer smo za sad samo izgradili graf ali jos uvek \n",
        "# nismo izvrsili izracunavanja. Kako bismo ih izvrsili, kreirajmo sesiju.\n",
        "# Metodi 'run' prosledjujemo jedan ili vise cvorova grafa cije izlaze zelimo \n",
        "# da saznamo. U tom momentu se vrsi izracunavanje tog i svih cvorova od kojih\n",
        "# taj cvor zavisi.\n",
        "sess = tf.Session()\n",
        "print(sess.run(c))\n",
        "sess.close()\n",
        "\n",
        "# Sesiju je potrebno zatvoriti. Kako bismo ovo izbegli cesto koristimo context\n",
        "# menadzer sintaksu:\n",
        "with tf.Session() as sess:\n",
        "    print(sess.run(c))\n",
        "    \n",
        "# Rezultat je isti, ali u ovom slucaju nema potrebe za eksplicitnim zatvaranjem \n",
        "# sesije - sav kod za sesiju se nalazi u scope-u context menadzera."
      ],
      "execution_count": 0,
      "outputs": [
        {
          "output_type": "stream",
          "text": [
            "Tensor(\"Mul_5:0\", shape=(), dtype=float32)\n",
            "30.0\n",
            "30.0\n"
          ],
          "name": "stdout"
        }
      ]
    },
    {
      "metadata": {
        "id": "N2wajYuOc1CM",
        "colab_type": "text"
      },
      "cell_type": "markdown",
      "source": [
        "## Primer višedimenzionih tenzora"
      ]
    },
    {
      "metadata": {
        "id": "gv5FlOtj_2EY",
        "colab_type": "code",
        "outputId": "9d68a109-a5af-4b0f-9fec-8fd0d3ebd40a",
        "colab": {
          "base_uri": "https://localhost:8080/",
          "height": 125
        }
      },
      "cell_type": "code",
      "source": [
        "# Kako radimo interaktivno u jupyter notebook-u, vazno je da svaki put kada \n",
        "# zelimo da gradimo novi graf obrisemo prethodni.\n",
        "tf.reset_default_graph()\n",
        "\n",
        "# a - vektor, b - matrica.\n",
        "a = tf.constant([2, 2], name='a')\n",
        "b = tf.constant([[0, 1], [2, 3]], name='b')\n",
        "print(a)\n",
        "print(b)\n",
        "\n",
        "# Sabiranje i mnozenje po koordinatama.\n",
        "zbir_c = tf.add(a, b, name='add')\n",
        "proizvod_c = tf.multiply(a, b, name='mul')\n",
        "\n",
        "# Mnozenje matrica 1x2 i 2x2. Da bi ova operacija uspela, potrebno je vektor a\n",
        "# tretirati kao matricu 1x2, ovo postizemo metodom 'tf.reshape'.\n",
        "proizvod = tf.matmul(tf.reshape(a, [1, 2]), b, name='matmul')\n",
        "\n",
        "# 'run' metodi mozemo proslediti vise cvorova za evaluaciju.\n",
        "with tf.Session() as sess:\n",
        "    print('Rezultat:')\n",
        "    print(sess.run([zbir_c, proizvod_c, proizvod]))"
      ],
      "execution_count": 0,
      "outputs": [
        {
          "output_type": "stream",
          "text": [
            "Tensor(\"a:0\", shape=(2,), dtype=int32)\n",
            "Tensor(\"b:0\", shape=(2, 2), dtype=int32)\n",
            "Rezultat:\n",
            "[array([[2, 3],\n",
            "       [4, 5]], dtype=int32), array([[0, 2],\n",
            "       [4, 6]], dtype=int32), array([[4, 8]], dtype=int32)]\n"
          ],
          "name": "stdout"
        }
      ]
    },
    {
      "metadata": {
        "id": "VcTmlzYVePcZ",
        "colab_type": "text"
      },
      "cell_type": "markdown",
      "source": [
        "\n",
        "## Česti op-ovi koji takođe daju konstantne tenzore:\n",
        "* [`tf.zeros`](https://www.tensorflow.org/api_docs/python/tf/zeros) - vraća tenzor datog oblika popunjen nulama\n",
        "* [`tf.ones`](https://www.tensorflow.org/api_docs/python/tf/ones) - vraća tenzor datog oblika popunjen jedinicama\n",
        "* [`tf.fill`](https://www.tensorflow.org/api_docs/python/tf/fill) - vraća tenzor datog oblika popunjen proizvoljnom skalarnom vrednošću\n"
      ]
    },
    {
      "metadata": {
        "id": "3HBaZZm7_2Eb",
        "colab_type": "code",
        "outputId": "38384903-5d55-4547-fb8f-4559ca329ede",
        "colab": {
          "base_uri": "https://localhost:8080/",
          "height": 143
        }
      },
      "cell_type": "code",
      "source": [
        "tf.reset_default_graph()\n",
        "\n",
        "a = tf.zeros([2, 3], tf.int32, name='a')\n",
        "b = tf.ones([2, 1], tf.int32, name='b')\n",
        "c = tf.fill([2, 1, 3], 8.0)\n",
        "\n",
        "with tf.Session() as sess:\n",
        "    print('a:', sess.run(a))\n",
        "    print('b:', sess.run(b))\n",
        "    print('c:', sess.run(c))"
      ],
      "execution_count": 0,
      "outputs": [
        {
          "output_type": "stream",
          "text": [
            "a: [[0 0 0]\n",
            " [0 0 0]]\n",
            "b: [[1]\n",
            " [1]]\n",
            "c: [[[8. 8. 8.]]\n",
            "\n",
            " [[8. 8. 8.]]]\n"
          ],
          "name": "stdout"
        }
      ]
    },
    {
      "metadata": {
        "id": "nVtV5BV2_2Ee",
        "colab_type": "text"
      },
      "cell_type": "markdown",
      "source": [
        "## Još neki malo kompleksniji op-ovi za dobijanje konstanti\n",
        "* [`tf.linspace`](https://www.tensorflow.org/api_docs/python/tf/linspace) - generiše zadat broj vrednosti u intervalu\n",
        "* [`tf.range`](https://www.tensorflow.org/api_docs/python/tf/range) - generiše niz brojeva zadatak početkom, krajem i korakom\n",
        "* [`tf.random_normal`](https://www.tensorflow.org/api_docs/python/tf/random_normal) - normalna raspodela\n",
        "* [`tf.random_uniform`](https://www.tensorflow.org/api_docs/python/tf/random_normal) - uniformna raspodela"
      ]
    },
    {
      "metadata": {
        "id": "g-or6aiY_2Eg",
        "colab_type": "code",
        "outputId": "3af925b8-943f-44fd-a005-c0957c14ea6d",
        "colab": {
          "base_uri": "https://localhost:8080/",
          "height": 143
        }
      },
      "cell_type": "code",
      "source": [
        "tf.reset_default_graph()\n",
        "\n",
        "# Postavljanje seed-a. Sa istom vrednoscu seed-a za dva pokretanja programa\n",
        "# dobijamo iste nasumicne brojeve.\n",
        "tf.set_random_seed(1)\n",
        "\n",
        "a = tf.linspace(10.0, 12.0, 5)\n",
        "b = tf.range(1, 10, 2)\n",
        "c = tf.random_normal([3, 3], mean=-1, stddev=4)\n",
        "d = tf.random_uniform([5], minval=2, maxval=10)\n",
        "\n",
        "with tf.Session() as sess:\n",
        "  print('a:', sess.run(a))\n",
        "  print('b:', sess.run(b))\n",
        "  print('c:', sess.run(c))\n",
        "  print('d:', sess.run(d))\n",
        "  print('d ponovo:', sess.run(d))"
      ],
      "execution_count": 0,
      "outputs": [
        {
          "output_type": "stream",
          "text": [
            "a: [10.  10.5 11.  11.5 12. ]\n",
            "b: [1 3 5 7 9]\n",
            "c: [[-9.371896   1.8877311  2.2890332]\n",
            " [-1.8387415  7.3358784 -4.508169 ]\n",
            " [-2.529273  -5.814917   1.4568174]]\n",
            "d: [8.484254  8.409284  8.833096  7.999032  3.9565115]\n",
            "d ponovo: [5.0431376 8.73207   8.058373  7.013489  4.362112 ]\n"
          ],
          "name": "stdout"
        }
      ]
    },
    {
      "metadata": {
        "id": "pf9WA-0P_2Er",
        "colab_type": "text"
      },
      "cell_type": "markdown",
      "source": [
        "# Varijable\n",
        "\n",
        "**Varijable** u TF (klasa [`tf.Variable`](https://www.tensorflow.org/api_docs/python/tf/Variable)) su tenzori čije vrednosti se mogu menjati op-ovima. Za razliku od \"običnih\" tenzora, varijable održavaju svoju vrednost u okviru sesije kroz više poziva metodi `session.run`. \n",
        "\n",
        "Varijablama se zadaju početne vrednosti tenzorskog tipa. Naravno, ova početna vrednost se ne dodeljuje varijablama pri izgradnji grafa, već u okviru sesije. Za ovo je neophodno pozvati poseban op `tf.global_variables_initializer`. Ovaj op, za razliku od onih koje smo videli do sada, nema tenzorsku povratnu vrednost (vraća `None`) ali kao *side effect* vrši postavljanje svih promenljivih  u grafu na njihove početne vrednosti. Ako ne želimo da inicijalizujemo sve već samo određene promenljive možemo koristiti `tf.variables_initializer`.\n",
        "\n",
        "Drugi način da postavimo vrednost promenljive je op [`tf.assign`](https://www.tensorflow.org/api_docs/python/tf/assign). Ovaj op postavlja vrednost promenljive na zadatu vrednost i tu vrednost takođe vraća kao tenzor."
      ]
    },
    {
      "metadata": {
        "id": "7sz6ERmN_2Es",
        "colab_type": "code",
        "outputId": "6ff14b52-e4dd-4287-9036-11bc873e93eb",
        "colab": {
          "base_uri": "https://localhost:8080/",
          "height": 215
        }
      },
      "cell_type": "code",
      "source": [
        "tf.reset_default_graph()\n",
        "\n",
        "# Razni tipovi varijabli (skalar, vektor, matrica nula).\n",
        "a = tf.Variable(2)\n",
        "b = tf.Variable([2, 3])\n",
        "c = tf.Variable(tf.zeros([2, 2]))\n",
        "\n",
        "# Kreiramo op koji inicijalizuje sve promenljive.\n",
        "init = tf.global_variables_initializer()\n",
        "\n",
        "# Menjamo promenljivu a.\n",
        "a_sabrano = a.assign(tf.add(a, 5))\n",
        "a_pomnozeno = a.assign(tf.multiply(a, 10))\n",
        "\n",
        "with tf.Session() as sess:\n",
        "    print(sess.run(init))  # Ne vraca nista, nema smisla stampati.\n",
        "    print('a:', sess.run(a))\n",
        "    print('b:', sess.run(b))\n",
        "    print('c:', sess.run(c))\n",
        "    print('-------------')\n",
        "    print(sess.run(a_sabrano))\n",
        "    print(sess.run(a))\n",
        "    print(sess.run(a_pomnozeno))\n",
        "    print(sess.run(a))\n",
        "    sess.run(init)  # Resetujemo a.\n",
        "    print(sess.run(a))"
      ],
      "execution_count": 0,
      "outputs": [
        {
          "output_type": "stream",
          "text": [
            "None\n",
            "a: 2\n",
            "b: [2 3]\n",
            "c: [[0. 0.]\n",
            " [0. 0.]]\n",
            "-------------\n",
            "7\n",
            "7\n",
            "70\n",
            "70\n",
            "2\n"
          ],
          "name": "stdout"
        }
      ]
    },
    {
      "metadata": {
        "id": "o14wDoY9_2Ey",
        "colab_type": "text"
      },
      "cell_type": "markdown",
      "source": [
        "# Placeholderi"
      ]
    },
    {
      "metadata": {
        "id": "FetSZzPt_2Ey",
        "colab_type": "text"
      },
      "cell_type": "markdown",
      "source": [
        "Možemo primetiti da grafovi koje smo do sada gradili uvek proizvode isti rezultat. \n",
        "\n",
        "**Placeholderi** (op [`tf.placeholder`](https://www.tensorflow.org/api_docs/python/tf/placeholder)) predstavljaju parametre u grafu koje možemo popuniti pri izvršavanju. Jedan placeholder je zapravo \"obećanje\" da će na tom mestu pri pokretanju biti popunjena vrednost. Popunjavanje vrednosti se vrši `feed_dict` argumentom metode `run`.\n",
        "\n",
        "Analogija: Posmatrajmo funkciju $f(x, y) = x*2 + y$. $x$ ili $y$, $x$, su u ovom slučaju placeholderi za prave vrednosti. Bez znanja njihovih vrednosti možemo izgraditi graf izračunavanja. Kada su njihove vrednosti prisutne možemo zapravo izvršiti izračunavanje."
      ]
    },
    {
      "metadata": {
        "id": "wNFnRgLm_2E0",
        "colab_type": "code",
        "colab": {}
      },
      "cell_type": "code",
      "source": [
        "# TODO"
      ],
      "execution_count": 0,
      "outputs": []
    },
    {
      "metadata": {
        "id": "Xbn0sP_HmMNI",
        "colab_type": "text"
      },
      "cell_type": "markdown",
      "source": [
        "# Primer: kvadratna jednačina $ax^2+bx+c=0$ za $a\\ne 0$"
      ]
    },
    {
      "metadata": {
        "id": "J8c-jINMmizB",
        "colab_type": "code",
        "colab": {}
      },
      "cell_type": "code",
      "source": [
        "# TODO"
      ],
      "execution_count": 0,
      "outputs": []
    },
    {
      "metadata": {
        "id": "HloSLpt7_2E3",
        "colab_type": "text"
      },
      "cell_type": "markdown",
      "source": [
        "# Tensorboard\n",
        "Uz tensorflow dolazi i pomoćni alat  **tensorboard**. Tensorboard služi za vizualizacije grafova, rezultata i međurezultata TensorFlow koda, i vrlo je koristan alat pri debagovanju.\n",
        "\n",
        "Za najjednostavniji primer korišćenja tensorboard-a, vizualizujmo graf izvršavanja u primeru kvadratne jednačine. Ovo radimo metodama klase `tf.summary.FileWriter` kao u kodu ispod.\n",
        "\n",
        "```\n",
        "writer = tf.summary.FileWriter('.')\n",
        "writer.add_graph(tf.get_default_graph())\n",
        "writer.flush()\n",
        "```\n",
        "\n",
        "Nakon uspešnog izvršavanja koda u direktorijumu koji smo zadali kao direktorijum za log fajlove (u našem slučaju to je trenutni) nalaziće se fajl nazvan `events.out.tfevents.{timestamp}.{hostname}`. Ovaj tip fajlova tensorboard zna da pročita i automatski prikaže nakon što ga pokrenemo.\n",
        "\n",
        "Tensorboard pokrećemo iz terminala komandom `tensorboard --logdir .`, pri čemu tačku treba zameniti putanjom do foldera sa log fajlovima ukoliko nisu u trenutnom direktorijumu. Ovo (na portu 6006) otvara tensorboard server i odmah vidimo naš graf.\n",
        "\n",
        "Tensorboard je prirodan za eksperimentisanje u lokalu; ako želimo da ga koristimo u okviru Google Colab okruženja kod izgleda malo drukčije i koristi se `tensorboardcolab` biblioteka. \n",
        "\n"
      ]
    },
    {
      "metadata": {
        "id": "rHWu_fV3si8h",
        "colab_type": "code",
        "colab": {}
      },
      "cell_type": "code",
      "source": [
        "# TODO"
      ],
      "execution_count": 0,
      "outputs": []
    },
    {
      "metadata": {
        "id": "pzn2DACtrXh_",
        "colab_type": "code",
        "colab": {}
      },
      "cell_type": "code",
      "source": [
        "# TODO"
      ],
      "execution_count": 0,
      "outputs": []
    },
    {
      "metadata": {
        "id": "9Ox0k-cyqWh1",
        "colab_type": "text"
      },
      "cell_type": "markdown",
      "source": [
        "# Čuvanje i učitavanje vrednosti promenljivih\n",
        "\n",
        "Često je poželjno sačuvati vrednosti svih promenljivih u grafu na disk u vidu checkpoint-a i te vrednosti ponovo učitati u nekom drugom trenutku. Ovo postiže klasa `tf.train.Saver`."
      ]
    },
    {
      "metadata": {
        "id": "_x0sI_cp_2E5",
        "colab_type": "code",
        "colab": {}
      },
      "cell_type": "code",
      "source": [
        "# TODO"
      ],
      "execution_count": 0,
      "outputs": []
    },
    {
      "metadata": {
        "id": "qaVjbQPq_2E8",
        "colab_type": "code",
        "colab": {}
      },
      "cell_type": "code",
      "source": [
        "# TODO"
      ],
      "execution_count": 0,
      "outputs": []
    }
  ]
}