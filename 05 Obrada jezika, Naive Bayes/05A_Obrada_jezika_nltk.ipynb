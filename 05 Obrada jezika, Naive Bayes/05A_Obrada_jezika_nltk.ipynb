{
  "nbformat": 4,
  "nbformat_minor": 0,
  "metadata": {
    "colab": {
      "name": "05A_Obrada_jezika_nltk.sol.ipynb",
      "version": "0.3.2",
      "provenance": [],
      "collapsed_sections": []
    },
    "kernelspec": {
      "display_name": "Python 3",
      "language": "python",
      "name": "python3"
    }
  },
  "cells": [
    {
      "metadata": {
        "slideshow": {
          "slide_type": "slide"
        },
        "id": "2l-OFjBU_2D6",
        "colab_type": "text"
      },
      "cell_type": "markdown",
      "source": [
        "# Obrada jezika (NLTK)"
      ]
    },
    {
      "metadata": {
        "id": "jglSyj3pCaKa",
        "colab_type": "text"
      },
      "cell_type": "markdown",
      "source": [
        "**\"A suite of libraries and programs for symbolic and statistical natural language processing for English\"**"
      ]
    },
    {
      "metadata": {
        "slideshow": {
          "slide_type": "slide"
        },
        "id": "OFJr40a4_2D8",
        "colab_type": "text"
      },
      "cell_type": "markdown",
      "source": [
        "# Pregled\n",
        "* Uvod u koncepte obrade jezika kroz primere iz biblioteke NLTK\n",
        "  * Instalacija NLTK\n",
        "  * Tokenizacija\n",
        "  * *Stemming*/*Lemmatizing*\n",
        "  * Brojanje reči\n",
        "  * Uklanjanje *stopwords* i interpunkcije\n",
        "  * Sinonimi i antonimi (*synsets*)\n",
        "  * POS tagovanje\n",
        "  * *Edit distance*\n",
        "  * Feature-izacija teksta"
      ]
    },
    {
      "metadata": {
        "id": "lvPQ1kYMsd6F",
        "colab_type": "text"
      },
      "cell_type": "markdown",
      "source": [
        "# Instalacija\n",
        "Pored standardnog `pip install nltk` potrebno je i pokrenuti liniju koda `nltk.download()` koja prikazuje interfejs za download-ovanje paketa. \n",
        "\n",
        "Nakon toga treba odabrati opciju `d` (download) a zatim `all` kako bi se download-ovali svi paketi.\n"
      ]
    },
    {
      "metadata": {
        "id": "Ns7j5_WrspI-",
        "colab_type": "code",
        "outputId": "9c7d38ad-0fad-479c-eca6-5e904a93fd14",
        "colab": {
          "base_uri": "https://localhost:8080/",
          "height": 4054
        }
      },
      "cell_type": "code",
      "source": [
        "import nltk\n",
        "nltk.download()"
      ],
      "execution_count": 0,
      "outputs": [
        {
          "output_type": "stream",
          "text": [
            "NLTK Downloader\n",
            "---------------------------------------------------------------------------\n",
            "    d) Download   l) List    u) Update   c) Config   h) Help   q) Quit\n",
            "---------------------------------------------------------------------------\n",
            "Downloader> d\n",
            "\n",
            "Download which package (l=list; x=cancel)?\n",
            "  Identifier> all\n",
            "    Downloading collection 'all'\n",
            "       | \n",
            "       | Downloading package abc to /root/nltk_data...\n",
            "       |   Unzipping corpora/abc.zip.\n",
            "       | Downloading package alpino to /root/nltk_data...\n",
            "       |   Unzipping corpora/alpino.zip.\n",
            "       | Downloading package biocreative_ppi to /root/nltk_data...\n",
            "       |   Unzipping corpora/biocreative_ppi.zip.\n",
            "       | Downloading package brown to /root/nltk_data...\n",
            "       |   Unzipping corpora/brown.zip.\n",
            "       | Downloading package brown_tei to /root/nltk_data...\n",
            "       |   Unzipping corpora/brown_tei.zip.\n",
            "       | Downloading package cess_cat to /root/nltk_data...\n",
            "       |   Unzipping corpora/cess_cat.zip.\n",
            "       | Downloading package cess_esp to /root/nltk_data...\n",
            "       |   Unzipping corpora/cess_esp.zip.\n",
            "       | Downloading package chat80 to /root/nltk_data...\n",
            "       |   Unzipping corpora/chat80.zip.\n",
            "       | Downloading package city_database to /root/nltk_data...\n",
            "       |   Unzipping corpora/city_database.zip.\n",
            "       | Downloading package cmudict to /root/nltk_data...\n",
            "       |   Unzipping corpora/cmudict.zip.\n",
            "       | Downloading package comparative_sentences to\n",
            "       |     /root/nltk_data...\n",
            "       |   Unzipping corpora/comparative_sentences.zip.\n",
            "       | Downloading package comtrans to /root/nltk_data...\n",
            "       | Downloading package conll2000 to /root/nltk_data...\n",
            "       |   Unzipping corpora/conll2000.zip.\n",
            "       | Downloading package conll2002 to /root/nltk_data...\n",
            "       |   Unzipping corpora/conll2002.zip.\n",
            "       | Downloading package conll2007 to /root/nltk_data...\n",
            "       | Downloading package crubadan to /root/nltk_data...\n",
            "       |   Unzipping corpora/crubadan.zip.\n",
            "       | Downloading package dependency_treebank to /root/nltk_data...\n",
            "       |   Unzipping corpora/dependency_treebank.zip.\n",
            "       | Downloading package dolch to /root/nltk_data...\n",
            "       |   Unzipping corpora/dolch.zip.\n",
            "       | Downloading package europarl_raw to /root/nltk_data...\n",
            "       |   Unzipping corpora/europarl_raw.zip.\n",
            "       | Downloading package floresta to /root/nltk_data...\n",
            "       |   Unzipping corpora/floresta.zip.\n",
            "       | Downloading package framenet_v15 to /root/nltk_data...\n",
            "       |   Unzipping corpora/framenet_v15.zip.\n",
            "       | Downloading package framenet_v17 to /root/nltk_data...\n",
            "       |   Unzipping corpora/framenet_v17.zip.\n",
            "       | Downloading package gazetteers to /root/nltk_data...\n",
            "       |   Unzipping corpora/gazetteers.zip.\n",
            "       | Downloading package genesis to /root/nltk_data...\n",
            "       |   Unzipping corpora/genesis.zip.\n",
            "       | Downloading package gutenberg to /root/nltk_data...\n",
            "       |   Unzipping corpora/gutenberg.zip.\n",
            "       | Downloading package ieer to /root/nltk_data...\n",
            "       |   Unzipping corpora/ieer.zip.\n",
            "       | Downloading package inaugural to /root/nltk_data...\n",
            "       |   Unzipping corpora/inaugural.zip.\n",
            "       | Downloading package indian to /root/nltk_data...\n",
            "       |   Unzipping corpora/indian.zip.\n",
            "       | Downloading package jeita to /root/nltk_data...\n",
            "       | Downloading package kimmo to /root/nltk_data...\n",
            "       |   Unzipping corpora/kimmo.zip.\n",
            "       | Downloading package knbc to /root/nltk_data...\n",
            "       | Downloading package lin_thesaurus to /root/nltk_data...\n",
            "       |   Unzipping corpora/lin_thesaurus.zip.\n",
            "       | Downloading package mac_morpho to /root/nltk_data...\n",
            "       |   Unzipping corpora/mac_morpho.zip.\n",
            "       | Downloading package machado to /root/nltk_data...\n",
            "       | Downloading package masc_tagged to /root/nltk_data...\n",
            "       | Downloading package moses_sample to /root/nltk_data...\n",
            "       |   Unzipping models/moses_sample.zip.\n",
            "       | Downloading package movie_reviews to /root/nltk_data...\n",
            "       |   Unzipping corpora/movie_reviews.zip.\n",
            "       | Downloading package names to /root/nltk_data...\n",
            "       |   Unzipping corpora/names.zip.\n",
            "       | Downloading package nombank.1.0 to /root/nltk_data...\n",
            "       | Downloading package nps_chat to /root/nltk_data...\n",
            "       |   Unzipping corpora/nps_chat.zip.\n",
            "       | Downloading package omw to /root/nltk_data...\n",
            "       |   Unzipping corpora/omw.zip.\n",
            "       | Downloading package opinion_lexicon to /root/nltk_data...\n",
            "       |   Unzipping corpora/opinion_lexicon.zip.\n",
            "       | Downloading package paradigms to /root/nltk_data...\n",
            "       |   Unzipping corpora/paradigms.zip.\n",
            "       | Downloading package pil to /root/nltk_data...\n",
            "       |   Unzipping corpora/pil.zip.\n",
            "       | Downloading package pl196x to /root/nltk_data...\n",
            "       |   Unzipping corpora/pl196x.zip.\n",
            "       | Downloading package ppattach to /root/nltk_data...\n",
            "       |   Unzipping corpora/ppattach.zip.\n",
            "       | Downloading package problem_reports to /root/nltk_data...\n",
            "       |   Unzipping corpora/problem_reports.zip.\n",
            "       | Downloading package propbank to /root/nltk_data...\n",
            "       | Downloading package ptb to /root/nltk_data...\n",
            "       |   Unzipping corpora/ptb.zip.\n",
            "       | Downloading package product_reviews_1 to /root/nltk_data...\n",
            "       |   Unzipping corpora/product_reviews_1.zip.\n",
            "       | Downloading package product_reviews_2 to /root/nltk_data...\n",
            "       |   Unzipping corpora/product_reviews_2.zip.\n",
            "       | Downloading package pros_cons to /root/nltk_data...\n",
            "       |   Unzipping corpora/pros_cons.zip.\n",
            "       | Downloading package qc to /root/nltk_data...\n",
            "       |   Unzipping corpora/qc.zip.\n",
            "       | Downloading package reuters to /root/nltk_data...\n",
            "       | Downloading package rte to /root/nltk_data...\n",
            "       |   Unzipping corpora/rte.zip.\n",
            "       | Downloading package semcor to /root/nltk_data...\n",
            "       | Downloading package senseval to /root/nltk_data...\n",
            "       |   Unzipping corpora/senseval.zip.\n",
            "       | Downloading package sentiwordnet to /root/nltk_data...\n",
            "       |   Unzipping corpora/sentiwordnet.zip.\n",
            "       | Downloading package sentence_polarity to /root/nltk_data...\n",
            "       |   Unzipping corpora/sentence_polarity.zip.\n",
            "       | Downloading package shakespeare to /root/nltk_data...\n",
            "       |   Unzipping corpora/shakespeare.zip.\n",
            "       | Downloading package sinica_treebank to /root/nltk_data...\n",
            "       |   Unzipping corpora/sinica_treebank.zip.\n",
            "       | Downloading package smultron to /root/nltk_data...\n",
            "       |   Unzipping corpora/smultron.zip.\n",
            "       | Downloading package state_union to /root/nltk_data...\n",
            "       |   Unzipping corpora/state_union.zip.\n",
            "       | Downloading package stopwords to /root/nltk_data...\n",
            "       |   Unzipping corpora/stopwords.zip.\n",
            "       | Downloading package subjectivity to /root/nltk_data...\n",
            "       |   Unzipping corpora/subjectivity.zip.\n",
            "       | Downloading package swadesh to /root/nltk_data...\n",
            "       |   Unzipping corpora/swadesh.zip.\n",
            "       | Downloading package switchboard to /root/nltk_data...\n",
            "       |   Unzipping corpora/switchboard.zip.\n",
            "       | Downloading package timit to /root/nltk_data...\n",
            "       |   Unzipping corpora/timit.zip.\n",
            "       | Downloading package toolbox to /root/nltk_data...\n",
            "       |   Unzipping corpora/toolbox.zip.\n",
            "       | Downloading package treebank to /root/nltk_data...\n",
            "       |   Unzipping corpora/treebank.zip.\n",
            "       | Downloading package twitter_samples to /root/nltk_data...\n",
            "       |   Unzipping corpora/twitter_samples.zip.\n",
            "       | Downloading package udhr to /root/nltk_data...\n",
            "       |   Unzipping corpora/udhr.zip.\n",
            "       | Downloading package udhr2 to /root/nltk_data...\n",
            "       |   Unzipping corpora/udhr2.zip.\n",
            "       | Downloading package unicode_samples to /root/nltk_data...\n",
            "       |   Unzipping corpora/unicode_samples.zip.\n",
            "       | Downloading package universal_treebanks_v20 to\n",
            "       |     /root/nltk_data...\n",
            "       | Downloading package verbnet to /root/nltk_data...\n",
            "       |   Unzipping corpora/verbnet.zip.\n",
            "       | Downloading package verbnet3 to /root/nltk_data...\n",
            "       |   Unzipping corpora/verbnet3.zip.\n",
            "       | Downloading package webtext to /root/nltk_data...\n",
            "       |   Unzipping corpora/webtext.zip.\n",
            "       | Downloading package wordnet to /root/nltk_data...\n",
            "       |   Unzipping corpora/wordnet.zip.\n",
            "       | Downloading package wordnet_ic to /root/nltk_data...\n",
            "       |   Unzipping corpora/wordnet_ic.zip.\n",
            "       | Downloading package words to /root/nltk_data...\n",
            "       |   Unzipping corpora/words.zip.\n",
            "       | Downloading package ycoe to /root/nltk_data...\n",
            "       |   Unzipping corpora/ycoe.zip.\n",
            "       | Downloading package rslp to /root/nltk_data...\n",
            "       |   Unzipping stemmers/rslp.zip.\n",
            "       | Downloading package maxent_treebank_pos_tagger to\n",
            "       |     /root/nltk_data...\n",
            "       |   Unzipping taggers/maxent_treebank_pos_tagger.zip.\n",
            "       | Downloading package universal_tagset to /root/nltk_data...\n",
            "       |   Unzipping taggers/universal_tagset.zip.\n",
            "       | Downloading package maxent_ne_chunker to /root/nltk_data...\n",
            "       |   Unzipping chunkers/maxent_ne_chunker.zip.\n",
            "       | Downloading package punkt to /root/nltk_data...\n",
            "       |   Unzipping tokenizers/punkt.zip.\n",
            "       | Downloading package book_grammars to /root/nltk_data...\n",
            "       |   Unzipping grammars/book_grammars.zip.\n",
            "       | Downloading package sample_grammars to /root/nltk_data...\n",
            "       |   Unzipping grammars/sample_grammars.zip.\n",
            "       | Downloading package spanish_grammars to /root/nltk_data...\n",
            "       |   Unzipping grammars/spanish_grammars.zip.\n",
            "       | Downloading package basque_grammars to /root/nltk_data...\n",
            "       |   Unzipping grammars/basque_grammars.zip.\n",
            "       | Downloading package large_grammars to /root/nltk_data...\n",
            "       |   Unzipping grammars/large_grammars.zip.\n",
            "       | Downloading package tagsets to /root/nltk_data...\n",
            "       |   Unzipping help/tagsets.zip.\n",
            "       | Downloading package snowball_data to /root/nltk_data...\n",
            "       | Downloading package bllip_wsj_no_aux to /root/nltk_data...\n",
            "       |   Unzipping models/bllip_wsj_no_aux.zip.\n",
            "       | Downloading package word2vec_sample to /root/nltk_data...\n",
            "       |   Unzipping models/word2vec_sample.zip.\n",
            "       | Downloading package panlex_swadesh to /root/nltk_data...\n",
            "       | Downloading package mte_teip5 to /root/nltk_data...\n",
            "       |   Unzipping corpora/mte_teip5.zip.\n",
            "       | Downloading package averaged_perceptron_tagger to\n",
            "       |     /root/nltk_data...\n",
            "       |   Unzipping taggers/averaged_perceptron_tagger.zip.\n",
            "       | Downloading package averaged_perceptron_tagger_ru to\n",
            "       |     /root/nltk_data...\n",
            "       |   Unzipping taggers/averaged_perceptron_tagger_ru.zip.\n",
            "       | Downloading package perluniprops to /root/nltk_data...\n",
            "       |   Unzipping misc/perluniprops.zip.\n",
            "       | Downloading package nonbreaking_prefixes to\n",
            "       |     /root/nltk_data...\n",
            "       |   Unzipping corpora/nonbreaking_prefixes.zip.\n",
            "       | Downloading package vader_lexicon to /root/nltk_data...\n",
            "       | Downloading package porter_test to /root/nltk_data...\n",
            "       |   Unzipping stemmers/porter_test.zip.\n",
            "       | Downloading package wmt15_eval to /root/nltk_data...\n",
            "       |   Unzipping models/wmt15_eval.zip.\n",
            "       | Downloading package mwa_ppdb to /root/nltk_data...\n",
            "       |   Unzipping misc/mwa_ppdb.zip.\n",
            "       | \n",
            "     Done downloading collection all\n",
            "\n",
            "---------------------------------------------------------------------------\n",
            "    d) Download   l) List    u) Update   c) Config   h) Help   q) Quit\n",
            "---------------------------------------------------------------------------\n",
            "Downloader> q\n"
          ],
          "name": "stdout"
        },
        {
          "output_type": "execute_result",
          "data": {
            "text/plain": [
              "True"
            ]
          },
          "metadata": {
            "tags": []
          },
          "execution_count": 2
        }
      ]
    },
    {
      "metadata": {
        "id": "gvmrlF5S_2EN",
        "colab_type": "text"
      },
      "cell_type": "markdown",
      "source": [
        "# Tokenizacija\n",
        "Podela teksta na rečenice i podela rečenice na reči."
      ]
    },
    {
      "metadata": {
        "slideshow": {
          "slide_type": "fragment"
        },
        "id": "qthAtzts_2EI",
        "colab_type": "code",
        "outputId": "3fe8e55c-701a-4348-fa74-c9ffd679e35e",
        "colab": {
          "base_uri": "https://localhost:8080/",
          "height": 72
        }
      },
      "cell_type": "code",
      "source": [
        "from nltk.tokenize import sent_tokenize, word_tokenize\n",
        "paragraph = \"\"\"Dobro dosli na vezbe iz predmeta `Masinsko ucenje`. \n",
        "Danas radimo uvod u NLP (Natural Language Processing). Koristicemo Python biblioteku NLTK.\"\"\"\n",
        "sentences = sent_tokenize(paragraph)\n",
        "print('Recenice:', sentences)\n",
        "words = word_tokenize(sentences[0])\n",
        "print('Reci u prvoj recenici:', words)"
      ],
      "execution_count": 0,
      "outputs": [
        {
          "output_type": "stream",
          "text": [
            "Recenice: ['Dobro dosli na vezbe iz predmeta `Masinsko ucenje`.', 'Danas radimo uvod u NLP (Natural Language Processing).', 'Koristicemo Python biblioteku NLTK.']\n",
            "Reci u prvoj recenici: ['Dobro', 'dosli', 'na', 'vezbe', 'iz', 'predmeta', '`Masinsko', 'ucenje`', '.']\n"
          ],
          "name": "stdout"
        }
      ]
    },
    {
      "metadata": {
        "id": "-E5CRlXVtU3O",
        "colab_type": "code",
        "outputId": "5ced0342-b520-4b8f-99e9-26c35eb0f737",
        "colab": {
          "base_uri": "https://localhost:8080/",
          "height": 87
        }
      },
      "cell_type": "code",
      "source": [
        "# word_tokenize nekada gresi\n",
        "# wordpunct_tokenize ne gresi ali svaku interpunkciju tretira kao novu rec\n",
        "# regexp_tokenize postuje pravila zadata regex-om\n",
        "\n",
        "print(word_tokenize(\"won't.\"))\n",
        "from nltk.tokenize import wordpunct_tokenize, regexp_tokenize\n",
        "print(wordpunct_tokenize(\"won't.\"))\n",
        "print(regexp_tokenize(\"won't\", \"[\\w']+\"))\n",
        "print(regexp_tokenize(\"I can't do this. I won't do that.\", \"[\\w']+\"))"
      ],
      "execution_count": 0,
      "outputs": [
        {
          "output_type": "stream",
          "text": [
            "['wo', \"n't\", '.']\n",
            "['won', \"'\", 't', '.']\n",
            "[\"won't\"]\n",
            "['I', \"can't\", 'do', 'this', 'I', \"won't\", 'do', 'that']\n"
          ],
          "name": "stdout"
        }
      ]
    },
    {
      "metadata": {
        "id": "lV2mtljUv9Q4",
        "colab_type": "text"
      },
      "cell_type": "markdown",
      "source": [
        "# Stemming\n",
        "\n",
        "\"Trying to shorten a word with simple regex rules\""
      ]
    },
    {
      "metadata": {
        "id": "ZhvSS89EwG_9",
        "colab_type": "code",
        "colab": {}
      },
      "cell_type": "code",
      "source": [
        "from nltk.stem import PorterStemmer    # najmanje agresivan\n",
        "from nltk.stem import LancasterStemmer # najvise agresivan\n",
        "from nltk.stem import SnowballStemmer  # potencijalno radi za druge jezike"
      ],
      "execution_count": 0,
      "outputs": []
    },
    {
      "metadata": {
        "id": "KGyWtvAhwI2L",
        "colab_type": "code",
        "outputId": "59d7b87e-4e13-4dd4-faff-e01179fd4d52",
        "colab": {
          "base_uri": "https://localhost:8080/",
          "height": 87
        }
      },
      "cell_type": "code",
      "source": [
        "porter = PorterStemmer()\n",
        "print(porter.stem('cooking'))\n",
        "print(porter.stem('dancing'))\n",
        "print(porter.stem('dancer'))\n",
        "print(porter.stem('dance'))"
      ],
      "execution_count": 0,
      "outputs": [
        {
          "output_type": "stream",
          "text": [
            "cook\n",
            "danc\n",
            "dancer\n",
            "danc\n"
          ],
          "name": "stdout"
        }
      ]
    },
    {
      "metadata": {
        "id": "NIYGoAcKwOKc",
        "colab_type": "code",
        "outputId": "5118da01-1525-4741-db7a-365355b657b8",
        "colab": {
          "base_uri": "https://localhost:8080/",
          "height": 87
        }
      },
      "cell_type": "code",
      "source": [
        "lancaster = LancasterStemmer()\n",
        "print(lancaster.stem('cooking'))\n",
        "print(lancaster.stem('dancing'))\n",
        "print(lancaster.stem('dancer'))\n",
        "print(lancaster.stem('dance'))"
      ],
      "execution_count": 0,
      "outputs": [
        {
          "output_type": "stream",
          "text": [
            "cook\n",
            "dant\n",
            "dant\n",
            "dant\n"
          ],
          "name": "stdout"
        }
      ]
    },
    {
      "metadata": {
        "id": "nPqOavkHxDEl",
        "colab_type": "text"
      },
      "cell_type": "markdown",
      "source": [
        "# Lemmatizing\n",
        "\"Trying to find the root word with linguistics rules (with the use of regexes)\"\n",
        "\n",
        "Koristi POS tagovanje:\n",
        "* n Noun \n",
        "* a Adjective \n",
        "* r Adverb \n",
        "* v Verb\n",
        "\n"
      ]
    },
    {
      "metadata": {
        "id": "8IeqHEQYxNZZ",
        "colab_type": "code",
        "outputId": "75f17d00-7af3-4baf-b1c4-4d266479b3a1",
        "colab": {
          "base_uri": "https://localhost:8080/",
          "height": 122
        }
      },
      "cell_type": "code",
      "source": [
        "from nltk.stem import WordNetLemmatizer\n",
        "\n",
        "lemmatizer = WordNetLemmatizer()\n",
        "print(lemmatizer.lemmatize('playing', pos=\"v\"))\n",
        "print(lemmatizer.lemmatize('playing', pos=\"n\"))\n",
        "print(lemmatizer.lemmatize('playing', pos=\"a\"))\n",
        "print(lemmatizer.lemmatize('playing', pos=\"r\"))\n",
        "\n",
        "print(lemmatizer.lemmatize('dancing', pos='v'))\n",
        "print(porter.stem('dancing'))\n"
      ],
      "execution_count": 0,
      "outputs": [
        {
          "output_type": "stream",
          "text": [
            "play\n",
            "playing\n",
            "playing\n",
            "playing\n",
            "dance\n",
            "danc\n"
          ],
          "name": "stdout"
        }
      ]
    },
    {
      "metadata": {
        "id": "kMyRiDohxdST",
        "colab_type": "text"
      },
      "cell_type": "markdown",
      "source": [
        "# Brojanje reči\n",
        "Iako ovo možemo lako uraditi ručno, klasa `FreqDist` olakšava proces.\n"
      ]
    },
    {
      "metadata": {
        "id": "R4_u0VrNxgOc",
        "colab_type": "code",
        "outputId": "ce8c7745-fa75-4ece-9482-ee4027cf7e66",
        "colab": {
          "base_uri": "https://localhost:8080/",
          "height": 406
        }
      },
      "cell_type": "code",
      "source": [
        "from nltk import FreqDist\n",
        "from nltk.tokenize import word_tokenize\n",
        "sent = 'hello world, hello people, this is hello world example of word count.'\n",
        "sent_tok = word_tokenize(sent)\n",
        "print(sent_tok)\n",
        "freq = FreqDist(sent_tok)\n",
        "freq.plot(30, cumulative=False)"
      ],
      "execution_count": 0,
      "outputs": [
        {
          "output_type": "stream",
          "text": [
            "['hello', 'world', ',', 'hello', 'people', ',', 'this', 'is', 'hello', 'world', 'example', 'of', 'word', 'count', '.']\n"
          ],
          "name": "stdout"
        },
        {
          "output_type": "display_data",
          "data": {
            "image/png": "[encoded data removed]",
            "text/plain": [
              "<Figure size 576x396 with 1 Axes>"
            ]
          },
          "metadata": {
            "tags": []
          }
        }
      ]
    },
    {
      "metadata": {
        "id": "01KpSh2kxprB",
        "colab_type": "text"
      },
      "cell_type": "markdown",
      "source": [
        "# Uklanjanje stopwords i interpunkcije"
      ]
    },
    {
      "metadata": {
        "id": "8fsBovTtxshi",
        "colab_type": "code",
        "outputId": "bfb1650c-9c1a-494a-a3ad-dd814e54fe4f",
        "colab": {
          "base_uri": "https://localhost:8080/",
          "height": 72
        }
      },
      "cell_type": "code",
      "source": [
        "from string import punctuation\n",
        "from nltk.corpus import stopwords\n",
        "from nltk.tokenize import sent_tokenize, word_tokenize\n",
        "\n",
        "data = \"All work and no play makes jack dull boy. All work and no play makes jack a dull boy.\"\n",
        "\n",
        "stop_punc = set(stopwords.words('english')).union(set(punctuation))\n",
        "print(stop_punc)\n",
        "\n",
        "words = word_tokenize(data)\n",
        "words_lower = [w.lower() for w in words]\n",
        "words_filtered = [w for w in words_lower if w not in stop_punc]\n",
        "print(words_filtered)"
      ],
      "execution_count": 0,
      "outputs": [
        {
          "output_type": "stream",
          "text": [
            "{'all', '_', 'against', 'in', '$', '`', 'herself', 'when', \"she's\", 'than', '}', 'above', 'each', 'through', 'as', 'mightn', '|', ')', 'these', \"doesn't\", 'other', 'couldn', 'because', 'am', '.', 'its', \"don't\", 'but', 'haven', 'my', 'again', 'does', 'further', \"needn't\", 'll', 'shan', \"weren't\", \"didn't\", ',', 'don', '<', '!', 's', 'are', \"shan't\", 'ain', 'any', 'him', \"wouldn't\", 'being', 'i', 'should', 'weren', \"it's\", \"mightn't\", 'on', 'been', 'only', 'them', 'this', 'doesn', 'our', \"mustn't\", 'down', 'yourselves', 'while', 'his', 'if', 'will', 'mustn', '[', 'myself', \"you're\", 'about', 'doing', \"shouldn't\", \"'\", 'most', 'd', 'you', 'he', '?', 'were', 'off', ':', 'can', 'they', 'which', '^', 'during', ';', 'wouldn', 'the', 'who', 'a', 'there', 'isn', 'won', 'under', 'just', 'with', 'and', 'between', '(', 'to', 'such', 'having', 'themselves', 'theirs', 'didn', 'over', '#', \"haven't\", 'himself', '\\\\', 'some', 've', \"you'd\", 'their', 're', 'itself', 'how', 'those', '{', 'did', 'it', 'where', 'me', 'ours', 'shouldn', '-', 'after', 'she', \"isn't\", 'at', \"should've\", 'until', 'that', 'yourself', 'wasn', 'up', 'aren', 'here', 'very', 'for', 'her', '@', 'of', 'few', \"hasn't\", '*', '=', \"you'll\", 'm', 'no', 'nor', 'from', \"wasn't\", \"won't\", 'so', '&', 'hasn', \"that'll\", 'then', 'your', 'o', \"couldn't\", 'we', 'or', 'too', 'now', 'an', '>', 'hers', 'was', 'not', 'more', 'do', 'before', 'hadn', '/', 'below', 'yours', 'y', '~', 'have', 'both', '%', 'own', \"hadn't\", 'had', 'be', ']', \"aren't\", 'has', 'once', '+', 't', 'needn', 'whom', '\"', \"you've\", 'what', 'out', 'by', 'why', 'ma', 'same', 'is', 'into', 'ourselves'}\n",
            "['work', 'play', 'makes', 'jack', 'dull', 'boy', 'work', 'play', 'makes', 'jack', 'dull', 'boy']\n"
          ],
          "name": "stdout"
        }
      ]
    },
    {
      "metadata": {
        "id": "Vqx3lb7LylOh",
        "colab_type": "text"
      },
      "cell_type": "markdown",
      "source": [
        "# Sinonimi i antonimi"
      ]
    },
    {
      "metadata": {
        "id": "YbufjNw5yqLk",
        "colab_type": "code",
        "outputId": "76e7850d-f62d-48a2-d5fd-b0043e9db93e",
        "colab": {
          "base_uri": "https://localhost:8080/",
          "height": 125
        }
      },
      "cell_type": "code",
      "source": [
        "from nltk.corpus import wordnet\n",
        "synsets = wordnet.synsets('win')\n",
        "\n",
        "# synset = skup sinonima\n",
        "print(synsets)\n",
        "print(synsets[0].definition())\n",
        "\n",
        "# prosirujemo synsete lemama\n",
        "syn_lems = []\n",
        "for syn in synsets:\n",
        "  syn_lems.extend(syn.lemmas())\n",
        "syn_lems = [lem.name() for lem in syn_lems]\n",
        "print(set(syn_lems))\n",
        "\n",
        "# antonimi\n",
        "print(synsets[2].lemmas()[0].antonyms()[0].name())\n",
        "\n",
        "# prosirujemo antonime lemama\n",
        "ants = []\n",
        "for syn in synsets:\n",
        "    for lem in syn.lemmas():\n",
        "        for ant in lem.antonyms():\n",
        "            ants.append(ant.name())\n",
        "print(ants)"
      ],
      "execution_count": 0,
      "outputs": [
        {
          "output_type": "stream",
          "text": [
            "[Synset('win.n.01'), Synset('winnings.n.01'), Synset('win.v.01'), Synset('acquire.v.05'), Synset('gain.v.05'), Synset('succeed.v.01')]\n",
            "a victory (as in a race or other competition)\n",
            "{'deliver_the_goods', 'profits', 'winnings', 'acquire', 'get_ahead', 'make_headway', 'gain_ground', 'gain', 'win', 'come_through', 'succeed', 'advance', 'pull_ahead', 'bring_home_the_bacon'}\n",
            "lose\n",
            "['losings', 'lose', 'lose', 'fall_back', 'fail']\n"
          ],
          "name": "stdout"
        }
      ]
    },
    {
      "metadata": {
        "id": "rpjnvm_M1PIl",
        "colab_type": "code",
        "outputId": "af730a96-ea87-4d4c-e240-0ec168b60450",
        "colab": {
          "base_uri": "https://localhost:8080/",
          "height": 90
        }
      },
      "cell_type": "code",
      "source": [
        "# stablo \"nasledjivanja\" synseta\n",
        "# najapstraktniji pojmovi: hypernyms\n",
        "# najkonkretniji pojmovi: hyponyms\n",
        "win = synsets[0]\n",
        "print(win.hypernyms())\n",
        "print(win.hypernyms()[0].hyponyms())\n",
        "print(win.root_hypernyms())"
      ],
      "execution_count": 0,
      "outputs": [
        {
          "output_type": "stream",
          "text": [
            "[Synset('victory.n.01')]\n",
            "[Synset('checkmate.n.01'), Synset('fall.n.10'), Synset('independence.n.02'), Synset('landslide.n.01'), Synset('last_laugh.n.01'), Synset('pyrrhic_victory.n.01'), Synset('runaway.n.01'), Synset('service_break.n.01'), Synset('slam.n.01'), Synset('walk-in.n.03'), Synset('win.n.01')]\n",
            "[Synset('entity.n.01')]\n"
          ],
          "name": "stdout"
        }
      ]
    },
    {
      "metadata": {
        "id": "pltDt4RX2WeR",
        "colab_type": "text"
      },
      "cell_type": "markdown",
      "source": [
        "# POS tagovanje\n",
        "POS = Part-Of-Speech, labeliranje reči u tekstu u odnosu na ulogu u govoru.\n",
        "\n",
        "\n",
        "[Spisak POS tagova](https://www.ling.upenn.edu/courses/Fall_2003/ling001/penn_treebank_pos.html)"
      ]
    },
    {
      "metadata": {
        "id": "e-n_siIV2b9B",
        "colab_type": "code",
        "outputId": "6348882c-7e8d-4714-9a17-472dd6d57f48",
        "colab": {
          "base_uri": "https://localhost:8080/",
          "height": 122
        }
      },
      "cell_type": "code",
      "source": [
        "from nltk.tag import pos_tag\n",
        "words = word_tokenize('And now for something completely different')\n",
        "pos_tag(words)"
      ],
      "execution_count": 0,
      "outputs": [
        {
          "output_type": "execute_result",
          "data": {
            "text/plain": [
              "[('And', 'CC'),\n",
              " ('now', 'RB'),\n",
              " ('for', 'IN'),\n",
              " ('something', 'NN'),\n",
              " ('completely', 'RB'),\n",
              " ('different', 'JJ')]"
            ]
          },
          "metadata": {
            "tags": []
          },
          "execution_count": 15
        }
      ]
    },
    {
      "metadata": {
        "id": "lfr4oaVS26EH",
        "colab_type": "text"
      },
      "cell_type": "markdown",
      "source": [
        "# Edit distance\n",
        "Edit distance dve reči je minimalan broj operacija tako da se dobije druga reč polazeći od prve. Dozvoljene operacije su brisanje, dodavanje i izmena slova."
      ]
    },
    {
      "metadata": {
        "id": "dQTfrqxL294X",
        "colab_type": "code",
        "outputId": "8e1ef66e-7dc2-4092-82b7-f766f9669c05",
        "colab": {
          "base_uri": "https://localhost:8080/",
          "height": 34
        }
      },
      "cell_type": "code",
      "source": [
        "from nltk.metrics import *\n",
        "\n",
        "print(edit_distance(\"rain\", \"shine\"))\n",
        "\n",
        "# rain\n",
        "# **  *\n",
        "# shine\n",
        "#\n",
        "# imamo dve izmene i jedno dodavanje pa je edit distance 3"
      ],
      "execution_count": 0,
      "outputs": [
        {
          "output_type": "stream",
          "text": [
            "3\n"
          ],
          "name": "stdout"
        }
      ]
    },
    {
      "metadata": {
        "id": "4mJJx9_G3cHS",
        "colab_type": "code",
        "outputId": "d00d4a79-1f71-47c6-a090-713f6532f503",
        "colab": {
          "base_uri": "https://localhost:8080/",
          "height": 34
        }
      },
      "cell_type": "code",
      "source": [
        "# primer: spell checker\n",
        "# nalazimo najblizu rec u korpusu po edit distance-u\n",
        "\n",
        "words = nltk.corpus.words.words()\n",
        "\n",
        "mistake = \"ligting\"\n",
        " \n",
        "words = ['apple', 'bag', 'drawing', 'listing', 'linking', 'living', 'lighting', 'orange', 'walking', 'zoo']\n",
        "\n",
        "words_with_ed = [(nltk.edit_distance(mistake, w), w) for w in words]\n",
        "print(sorted(words_with_ed)[:3])\n",
        "\n",
        "# ovde smo koristili spisak od 10 reci\n",
        "# za veci spisak koristiti nltk.corpus.words.words()"
      ],
      "execution_count": 0,
      "outputs": [
        {
          "output_type": "stream",
          "text": [
            "[(1, 'lighting'), (1, 'listing'), (2, 'linking')]\n"
          ],
          "name": "stdout"
        }
      ]
    },
    {
      "metadata": {
        "id": "VPwa9XzF2hEm",
        "colab_type": "text"
      },
      "cell_type": "markdown",
      "source": [
        "# Feature-izacija teksta\n",
        "\n",
        "\n",
        "* Većina ML algoritama radi sa jasno definisanim ulazima/izlazima u vidu vektora/matrica realnih brojeva\n",
        "* Iz tog razloga kako bismo primenili neki ML model na tekst, potrebno je izvršiti *feature-izaciju* (feature extraction), tj. pretvoriti tekst (rečenice/reči/dokumente) u format pogodan za model\n",
        "* Neki od pristupa su:\n",
        "  * **Bag-of-Words model (BoW)**: \n",
        "      * Svaki tekst tretiramo kao vektor broja pojavljivanja reči u njemu, važan je samo broj pojavljivanja\n",
        "  * **N-gram model**:\n",
        "      * Za razliku od BoW važan je i redosled reči, jer se posmatra broj pojavljivanja N-grama (nizova uzastopnih reči dužine N) u tekstu\n",
        "      * Za N=2 posmatraju se bigrami tj. parovi uzastopnih reči\n",
        "      * Za N=1 posmatraju se *1-grami* tj. reči pa dobijamo ponovo BoW model\n",
        "      * Umesto broja pojavljivanja možemo meriti i koristiti i neke druge metrike:\n",
        "        * **Prisutnost**: 0 ili 1 u zavisnosti od toga da li je N-gram prisutan u tekstu, jednostavnije od broja pojavljivanja\n",
        "        * **Frekvencija**: broj pojavljivanja N-grama podeljen sa ukupnom dužinom teksta, naprednije od broja pojavljivanja, uzima u obzir razlike u dužinama tekstova u korpusu\n",
        "  * **TF-IDF**:\n",
        "    * Metoda dodeljivanja *skora* paru $(reč, tekst)$ naprednija od prethodne tri\n",
        "    * Formula: $TF-IDF(reč, tekst) = TF(reč, tekst) * IDF(reč)$\n",
        "    * $TF$ predstavlja *term frequency* tj. već pominjanu frekvenciju reči u tekstu\n",
        "      * $TF$ je **lokalni** skor (označava koliko je reč važna za dati tekst)\n",
        "    * $IDF$ predstavlja *inverse document frequency* po formuli $\\log{\\frac{|korpus|}{|tekst \\in korpus~:~reč \\in tekst|}}$\n",
        "      * $IDF$ je veći za reči koje se retko pojavljuju na nivou celog korpusa, a manji za reči prisutne u većini dokumenata (pretpostavka je da takve reči ne nose informaciju)\n",
        "      * $IDF$ je **globalni** skor (označava koliko je često prisustvo neke reči značajno)\n",
        "    * Pored feature-izacije teksta česta primena u algoritmima internet pretrage i filtriranju stopwords\n",
        "* Glavna mana svih ovih modela je što potpuno zanemaruju kontekst, naročito u dužim tekstovima\n",
        "* Za modelovanje konteksta se koriste *rekurentne neuralne mreže* kojima ćemo se baviti za nekoliko časova"
      ]
    },
    {
      "metadata": {
        "id": "rANePS1P36uo",
        "colab_type": "code",
        "outputId": "5d1032e2-3995-4ca4-9530-03497fb91cbd",
        "colab": {
          "base_uri": "https://localhost:8080/",
          "height": 1001
        }
      },
      "cell_type": "code",
      "source": [
        "from nltk import FreqDist\n",
        "from nltk.tokenize import wordpunct_tokenize\n",
        "from string import punctuation\n",
        "from nltk.corpus import stopwords\n",
        "from nltk.stem import PorterStemmer\n",
        "import numpy as np\n",
        "import math\n",
        "\n",
        "corpus = [\"Jack likes action movies. 'Action movies are great' - Jack\",\n",
        "          \"Jack also likes to watch football games.\",\n",
        "          \"Jessica and Jack like to watch a movie together.\"]\n",
        "\n",
        "# Cistimo korpus\n",
        "print('Cleaning the corpus...')\n",
        "clean_corpus = []\n",
        "stop_punc = set(stopwords.words('english')).union(set(punctuation))\n",
        "for doc in corpus:\n",
        "  words = wordpunct_tokenize(doc)\n",
        "  words_lower = [w.lower() for w in words]\n",
        "  print(words_lower)\n",
        "  words_filtered = [w for w in words_lower if w not in stop_punc]\n",
        "  print(words_filtered)\n",
        "  words_stemmed = [porter.stem(w) for w in words_filtered]\n",
        "  print('Final:', words_stemmed)\n",
        "  clean_corpus.append(words_stemmed)\n",
        "  # Primetiti razliku u vokabularu kada se koraci izostave\n",
        "\n",
        "# Kreiramo vokabular\n",
        "print('Creating the vocab...')\n",
        "vocab_set = set()\n",
        "for doc in clean_corpus:\n",
        "  for word in doc:\n",
        "    vocab_set.add(word)\n",
        "vocab = list(vocab_set)\n",
        "\n",
        "print('Vocab:', list(zip(vocab, range(len(vocab)))))\n",
        "print('Feature vector size: ', len(vocab))\n",
        "\n",
        "# 1: Bag of Words model sa 3 različita scoringa\n",
        "np.set_printoptions(precision=2, linewidth=200)\n",
        "\n",
        "def occ_score(word, doc):\n",
        "   return 1 if word in doc else 0\n",
        "  \n",
        "def numocc_score(word, doc):\n",
        "  return doc.count(word)\n",
        "\n",
        "def freq_score(word, doc):\n",
        "  return doc.count(word) / len(doc)\n",
        "\n",
        "print('Creating BOW features...')\n",
        "for score_fn in [occ_score, numocc_score, freq_score]:\n",
        "  X = np.zeros((len(clean_corpus), len(vocab)), dtype=np.float32)\n",
        "  for doc_idx in range(len(clean_corpus)):\n",
        "    doc = clean_corpus[doc_idx]\n",
        "    for word_idx in range(len(vocab)):\n",
        "      word = vocab[word_idx]\n",
        "      cnt = score_fn(word, doc)\n",
        "      X[doc_idx][word_idx] = cnt\n",
        "  print('X:')\n",
        "  print(X)\n",
        "  print()\n",
        "\n",
        "# 2. Bigram model\n",
        "for doc in clean_corpus:\n",
        "  bigrams = []\n",
        "  for i in range(len(doc)-1):\n",
        "    bigram = doc[i] + ' ' + doc[i+1]\n",
        "    bigrams.append(bigram)\n",
        "  print('Bigrams:')\n",
        "  print(bigrams)\n",
        "  # Ostatak kreiranja feature vektora bi bio isti\n",
        "  # Vocab bi postao skup svih bigrama\n",
        "print()\n",
        "\n",
        "# 3. TF-IDF\n",
        "# Racunamo IDF mapu\n",
        "print('Calculating the IDF table...')\n",
        "doc_counts = dict()\n",
        "for word in vocab:\n",
        "  doc_counts[word] = 0\n",
        "  for doc in clean_corpus:\n",
        "    if word in doc:\n",
        "      doc_counts[word] += 1\n",
        "print('Doc counts:')\n",
        "print(doc_counts)\n",
        "idf_table = dict()\n",
        "for word in vocab:\n",
        "  idf = math.log10(len(corpus)/doc_counts[word])\n",
        "  idf_table[word] = idf\n",
        "print('IDF table:')\n",
        "print(idf_table)\n",
        "\n",
        "# Isti kod kao kod BOW\n",
        "def tfidf_score(word, doc):\n",
        "  tf = freq_score(word, doc)\n",
        "  idf = idf_table[word]\n",
        "  return tf * idf\n",
        "\n",
        "print('Creating TF-IDF features...')\n",
        "X = np.zeros((len(clean_corpus), len(vocab)), dtype=np.float32)\n",
        "for doc_idx in range(len(clean_corpus)):\n",
        "  doc = clean_corpus[doc_idx]\n",
        "  for word_idx in range(len(vocab)):\n",
        "    word = vocab[word_idx]\n",
        "    cnt = tfidf_score(word, doc)\n",
        "    X[doc_idx][word_idx] = cnt\n",
        "print('X:')\n",
        "print(X)\n",
        "print()\n",
        "print('Vocab again for reference:')\n",
        "print(vocab)\n",
        "print('Corpus again for reference:')\n",
        "for doc in clean_corpus:\n",
        "  print(doc)\n"
      ],
      "execution_count": 0,
      "outputs": [
        {
          "output_type": "stream",
          "text": [
            "Cleaning the corpus...\n",
            "['jack', 'likes', 'action', 'movies', '.', \"'\", 'action', 'movies', 'are', 'great', \"'\", '-', 'jack']\n",
            "['jack', 'likes', 'action', 'movies', 'action', 'movies', 'great', 'jack']\n",
            "Final: ['jack', 'like', 'action', 'movi', 'action', 'movi', 'great', 'jack']\n",
            "['jack', 'also', 'likes', 'to', 'watch', 'football', 'games', '.']\n",
            "['jack', 'also', 'likes', 'watch', 'football', 'games']\n",
            "Final: ['jack', 'also', 'like', 'watch', 'footbal', 'game']\n",
            "['jessica', 'and', 'jack', 'like', 'to', 'watch', 'a', 'movie', 'together', '.']\n",
            "['jessica', 'jack', 'like', 'watch', 'movie', 'together']\n",
            "Final: ['jessica', 'jack', 'like', 'watch', 'movi', 'togeth']\n",
            "Creating the vocab...\n",
            "Vocab: [('movi', 0), ('footbal', 1), ('watch', 2), ('game', 3), ('like', 4), ('also', 5), ('jack', 6), ('action', 7), ('togeth', 8), ('great', 9), ('jessica', 10)]\n",
            "Feature vector size:  11\n",
            "Creating BOW features...\n",
            "X:\n",
            "[[1. 0. 0. 0. 1. 0. 1. 1. 0. 1. 0.]\n",
            " [0. 1. 1. 1. 1. 1. 1. 0. 0. 0. 0.]\n",
            " [1. 0. 1. 0. 1. 0. 1. 0. 1. 0. 1.]]\n",
            "\n",
            "X:\n",
            "[[2. 0. 0. 0. 1. 0. 2. 2. 0. 1. 0.]\n",
            " [0. 1. 1. 1. 1. 1. 1. 0. 0. 0. 0.]\n",
            " [1. 0. 1. 0. 1. 0. 1. 0. 1. 0. 1.]]\n",
            "\n",
            "X:\n",
            "[[0.25 0.   0.   0.   0.12 0.   0.25 0.25 0.   0.12 0.  ]\n",
            " [0.   0.17 0.17 0.17 0.17 0.17 0.17 0.   0.   0.   0.  ]\n",
            " [0.17 0.   0.17 0.   0.17 0.   0.17 0.   0.17 0.   0.17]]\n",
            "\n",
            "Bigrams:\n",
            "['jack like', 'like action', 'action movi', 'movi action', 'action movi', 'movi great', 'great jack']\n",
            "Bigrams:\n",
            "['jack also', 'also like', 'like watch', 'watch footbal', 'footbal game']\n",
            "Bigrams:\n",
            "['jessica jack', 'jack like', 'like watch', 'watch movi', 'movi togeth']\n",
            "\n",
            "Calculating the IDF table...\n",
            "Doc counts:\n",
            "{'movi': 2, 'footbal': 1, 'watch': 2, 'game': 1, 'like': 3, 'also': 1, 'jack': 3, 'action': 1, 'togeth': 1, 'great': 1, 'jessica': 1}\n",
            "IDF table:\n",
            "{'movi': 0.17609125905568124, 'footbal': 0.47712125471966244, 'watch': 0.17609125905568124, 'game': 0.47712125471966244, 'like': 0.0, 'also': 0.47712125471966244, 'jack': 0.0, 'action': 0.47712125471966244, 'togeth': 0.47712125471966244, 'great': 0.47712125471966244, 'jessica': 0.47712125471966244}\n",
            "Creating TF-IDF features...\n",
            "X:\n",
            "[[0.04 0.   0.   0.   0.   0.   0.   0.12 0.   0.06 0.  ]\n",
            " [0.   0.08 0.03 0.08 0.   0.08 0.   0.   0.   0.   0.  ]\n",
            " [0.03 0.   0.03 0.   0.   0.   0.   0.   0.08 0.   0.08]]\n",
            "\n",
            "Vocab again for reference:\n",
            "['movi', 'footbal', 'watch', 'game', 'like', 'also', 'jack', 'action', 'togeth', 'great', 'jessica']\n",
            "Corpus again for reference:\n",
            "['jack', 'like', 'action', 'movi', 'action', 'movi', 'great', 'jack']\n",
            "['jack', 'also', 'like', 'watch', 'footbal', 'game']\n",
            "['jessica', 'jack', 'like', 'watch', 'movi', 'togeth']\n"
          ],
          "name": "stdout"
        }
      ]
    }
  ]
}