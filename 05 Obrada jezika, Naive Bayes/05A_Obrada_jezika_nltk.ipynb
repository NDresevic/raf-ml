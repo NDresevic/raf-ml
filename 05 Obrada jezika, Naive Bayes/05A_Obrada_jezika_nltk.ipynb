{
  "nbformat": 4,
  "nbformat_minor": 0,
  "metadata": {
    "colab": {
      "name": "05A_Obrada_jezika_nltk.ipynb",
      "version": "0.3.2",
      "provenance": [],
      "collapsed_sections": [],
      "toc_visible": true
    },
    "kernelspec": {
      "display_name": "Python 3",
      "language": "python",
      "name": "python3"
    }
  },
  "cells": [
    {
      "metadata": {
        "slideshow": {
          "slide_type": "slide"
        },
        "id": "2l-OFjBU_2D6",
        "colab_type": "text"
      },
      "cell_type": "markdown",
      "source": [
        "# Obrada jezika (NLTK)"
      ]
    },
    {
      "metadata": {
        "id": "jglSyj3pCaKa",
        "colab_type": "text"
      },
      "cell_type": "markdown",
      "source": [
        "**\"A suite of libraries and programs for symbolic and statistical natural language processing for English\"**"
      ]
    },
    {
      "metadata": {
        "slideshow": {
          "slide_type": "slide"
        },
        "id": "OFJr40a4_2D8",
        "colab_type": "text"
      },
      "cell_type": "markdown",
      "source": [
        "# Pregled\n",
        "* Uvod u koncepte obrade jezika kroz primere iz biblioteke NLTK"
      ]
    },
    {
      "metadata": {
        "id": "lvPQ1kYMsd6F",
        "colab_type": "text"
      },
      "cell_type": "markdown",
      "source": [
        "# Instalacija\n",
        "Pored standardnog `pip install nltk` potrebno je i pokrenuti liniju koda `nltk.download()` koja prikazuje interfejs za download-ovanje paketa.\n",
        "\n"
      ]
    },
    {
      "metadata": {
        "id": "Ns7j5_WrspI-",
        "colab_type": "code",
        "colab": {}
      },
      "cell_type": "code",
      "source": [
        ""
      ],
      "execution_count": 0,
      "outputs": []
    },
    {
      "metadata": {
        "id": "gvmrlF5S_2EN",
        "colab_type": "text"
      },
      "cell_type": "markdown",
      "source": [
        "# Tokenizacija\n",
        "Podela teksta na rečenice i podela rečenice na reči."
      ]
    },
    {
      "metadata": {
        "slideshow": {
          "slide_type": "fragment"
        },
        "id": "qthAtzts_2EI",
        "colab_type": "code",
        "colab": {}
      },
      "cell_type": "code",
      "source": [
        ""
      ],
      "execution_count": 0,
      "outputs": []
    },
    {
      "metadata": {
        "id": "-E5CRlXVtU3O",
        "colab_type": "code",
        "colab": {}
      },
      "cell_type": "code",
      "source": [
        ""
      ],
      "execution_count": 0,
      "outputs": []
    },
    {
      "metadata": {
        "id": "lV2mtljUv9Q4",
        "colab_type": "text"
      },
      "cell_type": "markdown",
      "source": [
        "# Stemming\n",
        "\n",
        "Stemming: Trying to shorten a word with simple regex rules"
      ]
    },
    {
      "metadata": {
        "id": "ZhvSS89EwG_9",
        "colab_type": "code",
        "colab": {}
      },
      "cell_type": "code",
      "source": [
        ""
      ],
      "execution_count": 0,
      "outputs": []
    },
    {
      "metadata": {
        "id": "KGyWtvAhwI2L",
        "colab_type": "code",
        "colab": {}
      },
      "cell_type": "code",
      "source": [
        ""
      ],
      "execution_count": 0,
      "outputs": []
    },
    {
      "metadata": {
        "id": "NIYGoAcKwOKc",
        "colab_type": "code",
        "colab": {}
      },
      "cell_type": "code",
      "source": [
        ""
      ],
      "execution_count": 0,
      "outputs": []
    },
    {
      "metadata": {
        "id": "nPqOavkHxDEl",
        "colab_type": "text"
      },
      "cell_type": "markdown",
      "source": [
        "# Lemmatizing\n",
        "Lemmatization: Trying to find the root word with linguistics rules (with the use of regexes)\n",
        "\n",
        "Potrebno POS tagovanje:\n",
        "n Noun \n",
        "a Adjective \n",
        "r Adverb \n",
        "v Verb"
      ]
    },
    {
      "metadata": {
        "id": "8IeqHEQYxNZZ",
        "colab_type": "code",
        "colab": {}
      },
      "cell_type": "code",
      "source": [
        ""
      ],
      "execution_count": 0,
      "outputs": []
    },
    {
      "metadata": {
        "id": "kMyRiDohxdST",
        "colab_type": "text"
      },
      "cell_type": "markdown",
      "source": [
        "# Brojanje reci\n"
      ]
    },
    {
      "metadata": {
        "id": "R4_u0VrNxgOc",
        "colab_type": "code",
        "colab": {}
      },
      "cell_type": "code",
      "source": [
        ""
      ],
      "execution_count": 0,
      "outputs": []
    },
    {
      "metadata": {
        "id": "01KpSh2kxprB",
        "colab_type": "text"
      },
      "cell_type": "markdown",
      "source": [
        "# Uklanjanje stopwords i interpunkcije"
      ]
    },
    {
      "metadata": {
        "id": "8fsBovTtxshi",
        "colab_type": "code",
        "colab": {}
      },
      "cell_type": "code",
      "source": [
        ""
      ],
      "execution_count": 0,
      "outputs": []
    },
    {
      "metadata": {
        "id": "Vqx3lb7LylOh",
        "colab_type": "text"
      },
      "cell_type": "markdown",
      "source": [
        "# Sinonimi i antonimi"
      ]
    },
    {
      "metadata": {
        "id": "YbufjNw5yqLk",
        "colab_type": "code",
        "colab": {}
      },
      "cell_type": "code",
      "source": [
        ""
      ],
      "execution_count": 0,
      "outputs": []
    },
    {
      "metadata": {
        "id": "8Po_XALb07zK",
        "colab_type": "code",
        "colab": {}
      },
      "cell_type": "code",
      "source": [
        ""
      ],
      "execution_count": 0,
      "outputs": []
    },
    {
      "metadata": {
        "id": "GX67DRtO1EZU",
        "colab_type": "text"
      },
      "cell_type": "markdown",
      "source": [
        "# Hipernimi (hypernyms)\n",
        "Stablo \"nasleđivanja\" synseta - najapstraktiniji pojmovi su *hypernyms* a najkonkretniji *hyponyms*."
      ]
    },
    {
      "metadata": {
        "id": "rpjnvm_M1PIl",
        "colab_type": "code",
        "colab": {}
      },
      "cell_type": "code",
      "source": [
        ""
      ],
      "execution_count": 0,
      "outputs": []
    },
    {
      "metadata": {
        "id": "Cle7nN3D1gvH",
        "colab_type": "text"
      },
      "cell_type": "markdown",
      "source": [
        "# n-grami"
      ]
    },
    {
      "metadata": {
        "id": "_UOAFS2F1iMI",
        "colab_type": "code",
        "colab": {}
      },
      "cell_type": "code",
      "source": [
        ""
      ],
      "execution_count": 0,
      "outputs": []
    },
    {
      "metadata": {
        "id": "pltDt4RX2WeR",
        "colab_type": "text"
      },
      "cell_type": "markdown",
      "source": [
        "# POS tagovanje\n",
        "https://www.ling.upenn.edu/courses/Fall_2003/ling001/penn_treebank_pos.html"
      ]
    },
    {
      "metadata": {
        "id": "e-n_siIV2b9B",
        "colab_type": "code",
        "colab": {}
      },
      "cell_type": "code",
      "source": [
        ""
      ],
      "execution_count": 0,
      "outputs": []
    },
    {
      "metadata": {
        "id": "lfr4oaVS26EH",
        "colab_type": "text"
      },
      "cell_type": "markdown",
      "source": [
        "# Edit distance"
      ]
    },
    {
      "metadata": {
        "id": "dQTfrqxL294X",
        "colab_type": "code",
        "colab": {}
      },
      "cell_type": "code",
      "source": [
        ""
      ],
      "execution_count": 0,
      "outputs": []
    },
    {
      "metadata": {
        "id": "4mJJx9_G3cHS",
        "colab_type": "code",
        "colab": {}
      },
      "cell_type": "code",
      "source": [
        ""
      ],
      "execution_count": 0,
      "outputs": []
    },
    {
      "metadata": {
        "id": "VPwa9XzF2hEm",
        "colab_type": "text"
      },
      "cell_type": "markdown",
      "source": [
        "# Feature-izacija teksta\n",
        "\n",
        "\n",
        "*   **Vector Space model**: Prikaz dokumenata/rečenica u nekom vektorskom prostoru\n",
        "    * **Bag-of-Words**: Svaki dokument/rečenicu tretiramo kao vektor broja pojavljivanja reči\n",
        "\n"
      ]
    },
    {
      "metadata": {
        "id": "rANePS1P36uo",
        "colab_type": "code",
        "colab": {}
      },
      "cell_type": "code",
      "source": [
        ""
      ],
      "execution_count": 0,
      "outputs": []
    },
    {
      "metadata": {
        "id": "NzfAwsHk3_2Q",
        "colab_type": "code",
        "colab": {}
      },
      "cell_type": "code",
      "source": [
        ""
      ],
      "execution_count": 0,
      "outputs": []
    }
  ]
}