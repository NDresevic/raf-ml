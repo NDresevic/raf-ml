{
  "nbformat": 4,
  "nbformat_minor": 0,
  "metadata": {
    "colab": {
      "name": "05B_Naive_Bayes.ipynb",
      "version": "0.3.2",
      "provenance": [],
      "collapsed_sections": [],
      "toc_visible": true
    },
    "kernelspec": {
      "display_name": "Python 3",
      "language": "python",
      "name": "python3"
    }
  },
  "cells": [
    {
      "metadata": {
        "slideshow": {
          "slide_type": "slide"
        },
        "id": "2l-OFjBU_2D6",
        "colab_type": "text"
      },
      "cell_type": "markdown",
      "source": [
        "#  Naive Bayes klasifikator"
      ]
    },
    {
      "metadata": {
        "id": "jglSyj3pCaKa",
        "colab_type": "text"
      },
      "cell_type": "markdown",
      "source": [
        "**\"A probabilistic classifiers based on applying Bayes' theorem with strong (naive) independence assumptions between the features\"**"
      ]
    },
    {
      "metadata": {
        "slideshow": {
          "slide_type": "slide"
        },
        "id": "OFJr40a4_2D8",
        "colab_type": "text"
      },
      "cell_type": "markdown",
      "source": [
        "# Pregled\n",
        "* Generativni modeli\n",
        "  * Naive Bayes klasifikator\n",
        "  * Bayesian Inference\n",
        "* Primer: sentiment analysis na tvitovima\n",
        "  * Koraci: priprema podataka, feature-izacija, trening, test\n"
      ]
    },
    {
      "metadata": {
        "id": "GX67DRtO1EZU",
        "colab_type": "text"
      },
      "cell_type": "markdown",
      "source": [
        "# Generativni modeli\n"
      ]
    },
    {
      "metadata": {
        "id": "Cle7nN3D1gvH",
        "colab_type": "text"
      },
      "cell_type": "markdown",
      "source": [
        "# Naive Bayes"
      ]
    },
    {
      "metadata": {
        "id": "_UOAFS2F1iMI",
        "colab_type": "code",
        "colab": {}
      },
      "cell_type": "code",
      "source": [
        "# TODO"
      ],
      "execution_count": 0,
      "outputs": []
    },
    {
      "metadata": {
        "id": "pltDt4RX2WeR",
        "colab_type": "text"
      },
      "cell_type": "markdown",
      "source": [
        "# Primer: sentiment analysis na tvitovima"
      ]
    },
    {
      "metadata": {
        "id": "e-n_siIV2b9B",
        "colab_type": "code",
        "colab": {}
      },
      "cell_type": "code",
      "source": [
        "# TODO"
      ],
      "execution_count": 0,
      "outputs": []
    }
  ]
}