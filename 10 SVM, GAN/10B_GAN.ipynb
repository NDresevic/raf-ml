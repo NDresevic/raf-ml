{
  "nbformat": 4,
  "nbformat_minor": 0,
  "metadata": {
    "colab": {
      "name": "10B_GAN.ipynb",
      "version": "0.3.2",
      "provenance": [],
      "collapsed_sections": []
    },
    "kernelspec": {
      "display_name": "Python 3",
      "language": "python",
      "name": "python3"
    }
  },
  "cells": [
    {
      "cell_type": "markdown",
      "metadata": {
        "slideshow": {
          "slide_type": "slide"
        },
        "id": "2l-OFjBU_2D6",
        "colab_type": "text"
      },
      "source": [
        "#  Generative adversarial networks"
      ]
    },
    {
      "cell_type": "markdown",
      "metadata": {
        "id": "jglSyj3pCaKa",
        "colab_type": "text"
      },
      "source": [
        "**\"Deep neural net architectures comprised of two nets, pitting one against the other\"**\n",
        "\n"
      ]
    },
    {
      "cell_type": "markdown",
      "metadata": {
        "slideshow": {
          "slide_type": "slide"
        },
        "id": "OFJr40a4_2D8",
        "colab_type": "text"
      },
      "source": [
        "## Pregled\n",
        "* Uvod\n",
        "* Struktura\n",
        "* Rezultati\n",
        "* TensorFlow implementacija"
      ]
    },
    {
      "cell_type": "markdown",
      "metadata": {
        "id": "wUoxHIC2TT-M",
        "colab_type": "text"
      },
      "source": [
        "## Uvod\n",
        "- Jedna od najinovativnijih i najpopularnijih novih ideja u ML u poslednjih 10 godina\n",
        "- Generativni model\n",
        "- [Svakim danom sve više radova](https://imgur.com/IFXxquc) \n",
        "- I dalje dosta detalja koje je potrebno dublje istražiti, težak trening\n",
        "- **Osnovna ideja**: Dve mreže koje se \"bore\": generator i diskriminator\n",
        "  - Treniramo ih naizmenično u isto vreme, nemamo fiksnu funkciju troška\n",
        "\n",
        "## Struktura\n",
        "- \"Prevarant\" i \"policajac\": prevarant uči sve bolje da pravi lažne novčanice, policajac uči sve bolje da ih razlikuje\n",
        "  - **Rezultat**: lažne novčanice koje liče na prave\n",
        "- Dakle, generator treba da generiše primere takve da diskriminator ne može da ih razlikuje od pravih\n",
        "- [Trening režim](https://imgur.com/807GTFL)\n",
        "- Generator menja svoje težine tako da dobije što veći skor od diskriminatora\n",
        "- Diskriminator menja svoje težine tako da da što manji skor generatoru ali što veći skor realnim primerima\n",
        "- Funkcija troška je mreža!\n",
        "-**Trik**: treba paziti da diskriminator ne ode previše ispred generatora, ne treniramo ga do konvergencije\n",
        "  - Ovaj i još mnogo trikova i dodataka kako bi se GAN uspešno istrenirao\n",
        "  - [Rad koji lepo ilustruje neke od njih](https://arxiv.org/abs/1904.08994)\n",
        "- **Jedan pogled na istoriju mašinskog učenja**:\n",
        "  1. Potreban je feature engineering pre modela\n",
        "  2. Neuralne mreže (nema potrebe za feature engineering-om ali nam treba cost funkcija)\n",
        "  3. GAN (nema potrebe za cost funkcijom ali moramo da znamo kako da radimo optimizaciju)\n",
        "  4. \"Learning to learn\" - mreža uči sama kako da radi optimizaciju\n",
        "  \n",
        "## Rezultati\n",
        "- Aritmetika u latentnom prostoru\n",
        "- Interpolacija između slika\n",
        "- Super Resolution\n",
        "- Interaktivni GAN\n",
        "- Style transfer\n",
        "- [Pregled zanimljivih primena i rezultata](https://medium.com/@jonathan_hui/gan-some-cool-applications-of-gans-4c9ecca35900)"
      ]
    },
    {
      "cell_type": "markdown",
      "metadata": {
        "id": "UIQ8To1A3nbs",
        "colab_type": "text"
      },
      "source": [
        "## TensorFlow implementacija"
      ]
    },
    {
      "cell_type": "code",
      "metadata": {
        "id": "nCOcEi7hYkF6",
        "colab_type": "code",
        "colab": {
          "base_uri": "https://localhost:8080/",
          "height": 1440
        },
        "outputId": "c77787d3-4c3a-49f8-919d-64b182b8520b"
      },
      "source": [
        "import tensorflow as tf\n",
        "import numpy as np\n",
        "import matplotlib.pyplot as plt\n",
        "from tensorflow.examples.tutorials.mnist import input_data\n",
        "\n",
        "mnist=input_data.read_data_sets(\"MNIST_data\")\n",
        "\n",
        "# Generator uzima vektor manje dimenzije (z) i generise sliku 28x28\n",
        "def generator(z,reuse=None):\n",
        "  with tf.variable_scope('gen',reuse=reuse):\n",
        "    hidden1 = tf.layers.dense(inputs=z,units=128,activation=tf.nn.leaky_relu)\n",
        "    hidden2 = tf.layers.dense(inputs=hidden1,units=128,activation=tf.nn.leaky_relu)\n",
        "    output = tf.layers.dense(inputs=hidden2,units=784,activation=tf.nn.tanh)\n",
        "\n",
        "    return output\n",
        "    \n",
        "# Diskriminator uzima sliku (pravu ili laznu) i odredjuje njenu autenticnost\n",
        "def discriminator(X,reuse=None):\n",
        "  with tf.variable_scope('dis',reuse=reuse):\n",
        "    hidden1 = tf.layers.dense(inputs=X,units=128,activation=tf.nn.leaky_relu)\n",
        "    hidden2 = tf.layers.dense(inputs=hidden1,units=128,activation=tf.nn.leaky_relu)\n",
        "    logits = tf.layers.dense(hidden2,units=1)\n",
        "    output = tf.sigmoid(logits)\n",
        "\n",
        "    return output,logits\n",
        "    \n",
        "\n",
        "tf.reset_default_graph()\n",
        "\n",
        "# Realne slike i latentni prostor\n",
        "real_images = tf.placeholder(tf.float32,shape=[None,784])\n",
        "z = tf.placeholder(tf.float32,shape=[None,100])\n",
        "\n",
        "# Osnovne jednacine potrebne za racunanje loss funkcije\n",
        "G=generator(z)\n",
        "D_output_real, D_logits_real = discriminator(real_images)\n",
        "D_output_fake, D_logits_fake = discriminator(G,reuse=True)\n",
        "\n",
        "# Standardna cross entropy loss funkcija\n",
        "def loss_func(logits_in,labels_in):\n",
        "  return tf.reduce_mean(tf.nn.sigmoid_cross_entropy_with_logits(\n",
        "      logits=logits_in, labels=labels_in))\n",
        "\n",
        "# Diskriminator pokusava da klasifikuje prave slike kao prave a lazne kao lazne\n",
        "# Dodajemo smoothing (mnozenje sa 0.9)\n",
        "D_real_loss = loss_func(D_logits_real, tf.ones_like(D_logits_real)*0.9)\n",
        "D_fake_loss = loss_func(D_logits_fake, tf.zeros_like(D_logits_real))\n",
        "D_loss = D_real_loss + D_fake_loss\n",
        "\n",
        "# Generator pokusava da prevari diskriminatora slikama koje deluju realno\n",
        "G_loss = loss_func(D_logits_fake, tf.ones_like(D_logits_fake))\n",
        "\n",
        "# Learning rate\n",
        "lr=0.001\n",
        "\n",
        "# Neophodni koraci kada vise mreza interaguje\n",
        "# Do this when multiple networks interact with each other\n",
        "# tvars vraca sve varijable kreirane u dva scope-a\n",
        "tvars = tf.trainable_variables()  \n",
        "d_vars = [var for var in tvars if 'dis' in var.name]\n",
        "g_vars = [var for var in tvars if 'gen' in var.name]\n",
        "\n",
        "# Optimizacija \n",
        "D_trainer = tf.train.AdamOptimizer(lr).minimize(D_loss,var_list=d_vars)\n",
        "G_trainer = tf.train.AdamOptimizer(lr).minimize(G_loss,var_list=g_vars)\n",
        "\n",
        "# Parametri\n",
        "batch_size = 100\n",
        "num_epochs = 5\n",
        "\n",
        "# Ovde cuvamo generisane slike nakon svake epohe\n",
        "samples = []\n",
        "\n",
        "# Trening\n",
        "with tf.Session() as sess:\n",
        "  sess.run(tf.global_variables_initializer())\n",
        "  for epoch in range(num_epochs):\n",
        "    num_batches = mnist.train.num_examples//batch_size\n",
        "    # Za svaki batch\n",
        "    for i in range(num_batches):\n",
        "      # Uzimamo naredne slike\n",
        "      batch = mnist.train.next_batch(batch_size)\n",
        "      batch_images = batch[0].reshape((batch_size,784))\n",
        "      batch_images = batch_images*2-1\n",
        "      \n",
        "      # Samplujemo nasumican batch vektora\n",
        "      batch_z = np.random.uniform(-1,1,size=(batch_size,100))\n",
        "      \n",
        "      # Treniramo diskriminatora pa generatora\n",
        "      _=sess.run(D_trainer,feed_dict={real_images:batch_images,z:batch_z})\n",
        "      _=sess.run(G_trainer,feed_dict={z:batch_z})\n",
        "\n",
        "    print(\"Epoch: {}\".format(epoch))\n",
        "\n",
        "    # Na kraju epohe generisemo jednu nasumicnu sliku i dodajemo u niz\n",
        "    sample_z = np.random.uniform(-1,1,size=(1,100))\n",
        "    gen_sample = sess.run(generator(z,reuse=True),feed_dict={z:sample_z})\n",
        "    samples.append(gen_sample.reshape(28, 28))\n",
        "    \n",
        "    # Prikazujemo tu sliku\n",
        "    plt.imshow(samples[-1])\n",
        "    plt.show()\n",
        "    \n",
        "    # 5 epoha je samo ilustracija i definitivno nije dovoljno\n",
        "    # Nakon 100 epoha dobijamo slike koje pocinju da podsecaju na cifre"
      ],
      "execution_count": 3,
      "outputs": [
        {
          "output_type": "stream",
          "text": [
            "Extracting MNIST_data/train-images-idx3-ubyte.gz\n",
            "Extracting MNIST_data/train-labels-idx1-ubyte.gz\n",
            "Extracting MNIST_data/t10k-images-idx3-ubyte.gz\n",
            "Extracting MNIST_data/t10k-labels-idx1-ubyte.gz\n",
            "Epoch: 0\n"
          ],
          "name": "stdout"
        },
        {
          "output_type": "display_data",
          "data": {
            "image/png": "[encoded data removed]",
            "text/plain": [
              "<Figure size 432x288 with 1 Axes>"
            ]
          },
          "metadata": {
            "tags": []
          }
        },
        {
          "output_type": "stream",
          "text": [
            "Epoch: 1\n"
          ],
          "name": "stdout"
        },
        {
          "output_type": "display_data",
          "data": {
            "image/png": "[encoded data removed]",
            "text/plain": [
              "<Figure size 432x288 with 1 Axes>"
            ]
          },
          "metadata": {
            "tags": []
          }
        },
        {
          "output_type": "stream",
          "text": [
            "Epoch: 2\n"
          ],
          "name": "stdout"
        },
        {
          "output_type": "display_data",
          "data": {
            "image/png": "[encoded data removed]",
            "text/plain": [
              "<Figure size 432x288 with 1 Axes>"
            ]
          },
          "metadata": {
            "tags": []
          }
        },
        {
          "output_type": "stream",
          "text": [
            "Epoch: 3\n"
          ],
          "name": "stdout"
        },
        {
          "output_type": "display_data",
          "data": {
            "image/png": "[encoded data removed]",
            "text/plain": [
              "<Figure size 432x288 with 1 Axes>"
            ]
          },
          "metadata": {
            "tags": []
          }
        },
        {
          "output_type": "stream",
          "text": [
            "Epoch: 4\n"
          ],
          "name": "stdout"
        },
        {
          "output_type": "display_data",
          "data": {
            "image/png": "[encoded data removed]",
            "text/plain": [
              "<Figure size 432x288 with 1 Axes>"
            ]
          },
          "metadata": {
            "tags": []
          }
        }
      ]
    }
  ]
}