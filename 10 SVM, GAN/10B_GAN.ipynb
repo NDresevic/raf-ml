{
  "nbformat": 4,
  "nbformat_minor": 0,
  "metadata": {
    "colab": {
      "name": "10B_GAN.ipynb",
      "version": "0.3.2",
      "provenance": [],
      "collapsed_sections": []
    },
    "kernelspec": {
      "display_name": "Python 3",
      "language": "python",
      "name": "python3"
    }
  },
  "cells": [
    {
      "cell_type": "markdown",
      "metadata": {
        "slideshow": {
          "slide_type": "slide"
        },
        "id": "2l-OFjBU_2D6",
        "colab_type": "text"
      },
      "source": [
        "#  Generative Adversarial Networks"
      ]
    },
    {
      "cell_type": "markdown",
      "metadata": {
        "id": "jglSyj3pCaKa",
        "colab_type": "text"
      },
      "source": [
        "**\"Deep neural net architectures comprised of two nets, pitting one against the other\"**\n",
        "\n"
      ]
    },
    {
      "cell_type": "markdown",
      "metadata": {
        "slideshow": {
          "slide_type": "slide"
        },
        "id": "OFJr40a4_2D8",
        "colab_type": "text"
      },
      "source": [
        "## Pregled\n",
        "* GAN"
      ]
    },
    {
      "cell_type": "markdown",
      "metadata": {
        "id": "wUoxHIC2TT-M",
        "colab_type": "text"
      },
      "source": [
        "## GAN\n",
        "- Jedna od najinovativnijih i najpopularnijih novih ideja u ML u poslednjih 10 godina\n",
        "- Generativni model\n",
        "- Svakim danom sve više radova https://imgur.com/IFXxquc\n",
        "- I dalje ne znamo baš kako funkcioniše\n",
        "- Dve mreže koje se \"bore\": generator i diskriminator\n",
        "- Treniramo ih naizmenično u isto vreme, nemamo fiksnu funkciju troška\n",
        "- Vrlo se teško treniraju i lako divergiraju\n",
        "\n",
        "## Struktura\n",
        "- \"Prevarant\" i \"policajac\": prevarant uči sve bolje da pravi lažne novčanice, policajac uči sve bolje da ih razlikuje\n",
        "  - Rezultat: prevarant postane jako dobar\n",
        "- Dakle, generator treba da generiše primere takve da diskriminator ne može da ih razlikuje od pravih\n",
        "- Trening režim: https://imgur.com/807GTFL\n",
        "- Generator menja svoje težine tako da dobije što veći skor od diskriminatora\n",
        "- Diskriminator menja svoje težine tako da da što manji skor generatoru ali što veći skor realnim primerima\n",
        "- Funkcija troška je mreža!\n",
        "-Trik: treba paziti da diskriminator ne ode previše ispred generatora, ne treniramo ga do konvergencije\n",
        "  - Ovaj i još mnogo trikova\n",
        "  - WGAN, DCGAN, ...\n",
        "\n",
        "- Istorija ML: \n",
        "  - Feature engineering pre modela\n",
        "  - Neuralne mreže (nema potrebe za feature engineeringom ali nam treba cost funkcija)\n",
        "  - GAN (nema potrebe za cost funkcijom ali moramo da znamo kako da radimo optimizaciju)\n",
        "  - ??? (learning to learn)\n",
        "  \n",
        "## Rezultati\n",
        "- Aritmetika u latentnom prostoru\n",
        "- Interpolacija između slika\n",
        "- SuperResolution\n",
        "- Interaktivni GAN\n",
        "- Style transfer"
      ]
    },
    {
      "cell_type": "code",
      "metadata": {
        "id": "nCOcEi7hYkF6",
        "colab_type": "code",
        "colab": {}
      },
      "source": [
        "# TODO"
      ],
      "execution_count": 0,
      "outputs": []
    },
    {
      "cell_type": "markdown",
      "metadata": {
        "id": "GX67DRtO1EZU",
        "colab_type": "text"
      },
      "source": [
        "## Resursi\n",
        "[Primene](https://medium.com/@jonathan_hui/gan-some-cool-applications-of-gans-4c9ecca35900)\n"
      ]
    }
  ]
}