{
  "nbformat": 4,
  "nbformat_minor": 0,
  "metadata": {
    "colab": {
      "name": "03A_Logisticka_regresija.ipynb",
      "version": "0.3.2",
      "provenance": [],
      "collapsed_sections": [],
      "toc_visible": true
    },
    "kernelspec": {
      "display_name": "Python 3",
      "language": "python",
      "name": "python3"
    }
  },
  "cells": [
    {
      "metadata": {
        "slideshow": {
          "slide_type": "slide"
        },
        "id": "2l-OFjBU_2D6",
        "colab_type": "text"
      },
      "cell_type": "markdown",
      "source": [
        "# Logistička regresija"
      ]
    },
    {
      "metadata": {
        "id": "jglSyj3pCaKa",
        "colab_type": "text"
      },
      "cell_type": "markdown",
      "source": [
        "**\"A statistical model that uses a logistic function to model a binary dependent variable\"**"
      ]
    },
    {
      "metadata": {
        "slideshow": {
          "slide_type": "slide"
        },
        "id": "OFJr40a4_2D8",
        "colab_type": "text"
      },
      "cell_type": "markdown",
      "source": [
        "# Pregled\n",
        "* Binarna klasifikacija\n",
        "* Logistička regresija\n",
        "* Evaluacija modela\n",
        "* Multinomijalna (multiclass) klasifikacija\n",
        "  * One-vs-all\n",
        "  * Softmax"
      ]
    },
    {
      "metadata": {
        "slideshow": {
          "slide_type": "skip"
        },
        "id": "nk6vDjq9_2EH",
        "colab_type": "text"
      },
      "cell_type": "markdown",
      "source": [
        "# Binarna klasifikacija\n",
        "\n",
        "U problemima **klasifikacije** izlazni podaci su diskretnog tipa i nazivamo ih **klase**. Dakle, treba naučiti funkciju koja ispravno klasifikuje ulazne podatke (sa proizvoljno mnogo feature-a) u neku od tih klasa.\n",
        "\n",
        "Ako je klasifikacija **binarna** postoji tačno dve klase, koje se često označavaju sa 0 (negativna klasa) i 1 (pozitivna klasa).\n",
        "\n"
      ]
    },
    {
      "metadata": {
        "id": "gvmrlF5S_2EN",
        "colab_type": "text"
      },
      "cell_type": "markdown",
      "source": [
        "# Logistička regresija\n",
        "\n",
        "* **Logistička regresija** (Logistic Regression) je metod za rešavanje problema binarne klasifikacije\n",
        "* **Hipoteza (model)**: $h_\\theta(X)=S(X\\Theta + bias)$\n",
        "  * $S$ je **logistička funkcija** (sigmoid): $S(x) = \\frac{1}{1+e^{-x}}$\n",
        "  * Logistička funkcija mapira realne vrednosti u interval od 0 do 1\n",
        "  * Izlaz ove funkcije ćemo tretirati kao **verovatnoću da uneti primer pripada klasi 1**\n",
        "  * Sada možemo definisati **granicu odluke** kao vrednost iznad koje ćemo primere tretirati kao \"pozitivne\"\n",
        "  * $h_\\theta(X) \\ge 0.5 \\implies klasa = 1$\n",
        "  * $h_\\theta(X) < 0.5 \\implies klasa = 0$\n",
        "* Sada naša stara loss funkcija nema mnogo smisla, pa koristimo **Cross Entropy Loss** (Log Loss):\n",
        "  * $J(\\theta) = \\frac{1}{m} \\sum\\limits_{i=1}^{m} Cost(h_\\Theta(x^{(i)}), y^{(i)})$\n",
        "  * $Cost(h_\\Theta(x), y) = -\\log(h_\\Theta(x))$ za $y=1$\n",
        "  * $Cost(h_\\Theta(x), y) = -\\log(1 - h_\\Theta(x))$ za $y = 0$\n",
        "  * Kao jedan izraz, da bismo zaobišli potrebu za grananjem, $Cost$ se može zapisati ovako (uvek je tačno jedan sabirak jednak nuli):\n",
        "    * $Cost(h_\\Theta(x), y) = -y~log(h_\\Theta(x))-(1-y)\\log(1-h_\\Theta(x))$ \n",
        "* Za optimizaciju i trening koristimo iste procedure\n",
        "* [Više o logističkoj regresiji](https://mcerovic.github.io/notes/LogisticRegression/index.html)"
      ]
    },
    {
      "metadata": {
        "id": "95Sfd7ziYXGy",
        "colab_type": "text"
      },
      "cell_type": "markdown",
      "source": [
        "## Primer\n",
        "\n",
        "Dat je skup podataka **logreg_data.csv** sa 200 trening primera i 2 ulazna feature-a. Za svaki primer data je klasa kom pripada (0 ili 1).\n",
        "\n",
        "Istreniraćemo logističku regresiju da za nepoznate primere vrši klasifikaciju.\n"
      ]
    },
    {
      "metadata": {
        "slideshow": {
          "slide_type": "fragment"
        },
        "id": "qthAtzts_2EI",
        "colab_type": "code",
        "colab": {}
      },
      "cell_type": "code",
      "source": [
        "# TODO"
      ],
      "execution_count": 0,
      "outputs": []
    },
    {
      "metadata": {
        "id": "iepb5x4v-J1A",
        "colab_type": "text"
      },
      "cell_type": "markdown",
      "source": [
        "#Evaluacija modela"
      ]
    },
    {
      "metadata": {
        "id": "a-wWLwjG-U1D",
        "colab_type": "code",
        "colab": {}
      },
      "cell_type": "code",
      "source": [
        "#TODO"
      ],
      "execution_count": 0,
      "outputs": []
    },
    {
      "metadata": {
        "id": "D-K67NAK-Rp7",
        "colab_type": "text"
      },
      "cell_type": "markdown",
      "source": [
        "#Multinomijalna (multiclass) klasifikacija"
      ]
    },
    {
      "metadata": {
        "id": "P71zGHTN-Voy",
        "colab_type": "code",
        "colab": {}
      },
      "cell_type": "code",
      "source": [
        "#TODO"
      ],
      "execution_count": 0,
      "outputs": []
    }
  ]
}