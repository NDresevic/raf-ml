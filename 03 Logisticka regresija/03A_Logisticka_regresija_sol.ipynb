{
  "nbformat": 4,
  "nbformat_minor": 0,
  "metadata": {
    "colab": {
      "name": "03A_Logisticka_regresija.sol.ipynb",
      "version": "0.3.2",
      "provenance": [],
      "collapsed_sections": [],
      "toc_visible": true
    },
    "kernelspec": {
      "display_name": "Python 3",
      "language": "python",
      "name": "python3"
    }
  },
  "cells": [
    {
      "metadata": {
        "slideshow": {
          "slide_type": "slide"
        },
        "id": "2l-OFjBU_2D6",
        "colab_type": "text"
      },
      "cell_type": "markdown",
      "source": [
        "# Logistička regresija"
      ]
    },
    {
      "metadata": {
        "id": "jglSyj3pCaKa",
        "colab_type": "text"
      },
      "cell_type": "markdown",
      "source": [
        "**\"A statistical model that uses a logistic function to model a binary dependent variable\"**"
      ]
    },
    {
      "metadata": {
        "slideshow": {
          "slide_type": "slide"
        },
        "id": "OFJr40a4_2D8",
        "colab_type": "text"
      },
      "cell_type": "markdown",
      "source": [
        "# Pregled\n",
        "* Binarna klasifikacija\n",
        "* Logistička regresija\n",
        "* Evaluacija modela\n",
        "* Multinomijalna (multiclass) klasifikacija\n",
        "  * One-vs-all\n",
        "  * Softmax"
      ]
    },
    {
      "metadata": {
        "slideshow": {
          "slide_type": "skip"
        },
        "id": "nk6vDjq9_2EH",
        "colab_type": "text"
      },
      "cell_type": "markdown",
      "source": [
        "# Binarna klasifikacija\n",
        "\n",
        "U problemima **klasifikacije** izlazni podaci su diskretnog tipa i nazivamo ih **klase**. Dakle, treba naučiti funkciju koja ispravno klasifikuje ulazne podatke (sa proizvoljno mnogo feature-a) u neku od tih klasa.\n",
        "\n",
        "Ako je klasifikacija **binarna** postoji tačno dve klase, koje se često označavaju sa 0 (negativna klasa) i 1 (pozitivna klasa).\n",
        "\n"
      ]
    },
    {
      "metadata": {
        "id": "gvmrlF5S_2EN",
        "colab_type": "text"
      },
      "cell_type": "markdown",
      "source": [
        "# Logistička regresija\n",
        "\n",
        "* **Logistička regresija** (Logistic Regression) je metod za rešavanje problema binarne klasifikacije\n",
        "* **Hipoteza (model)**: $h_\\theta(X)=S(X\\Theta + bias)$\n",
        "  * $S$ je **logistička funkcija** (sigmoid): $S(x) = \\frac{1}{1+e^{-x}}$\n",
        "  * Logistička funkcija mapira realne vrednosti u interval od 0 do 1\n",
        "  * Izlaz ove funkcije ćemo tretirati kao **verovatnoću da uneti primer pripada klasi 1**\n",
        "  * Sada možemo definisati **granicu odluke** kao vrednost iznad koje ćemo primere tretirati kao \"pozitivne\"\n",
        "  * $h_\\theta(X) \\ge 0.5 \\implies klasa = 1$\n",
        "  * $h_\\theta(X) < 0.5 \\implies klasa = 0$\n",
        "* Sada naša stara loss funkcija nema mnogo smisla, pa koristimo **Cross Entropy Loss** (Log Loss):\n",
        "  * $J(\\theta) = \\frac{1}{m} \\sum\\limits_{i=1}^{m} Cost(h_\\Theta(x^{(i)}), y^{(i)})$\n",
        "  * $Cost(h_\\Theta(x), y) = -\\log(h_\\Theta(x))$ za $y=1$\n",
        "  * $Cost(h_\\Theta(x), y) = -\\log(1 - h_\\Theta(x))$ za $y = 0$\n",
        "  * Kao jedan izraz, da bismo zaobišli potrebu za grananjem, $Cost$ se može zapisati ovako (uvek je tačno jedan sabirak jednak nuli):\n",
        "    * $Cost(h_\\Theta(x), y) = -y~log(h_\\Theta(x))-(1-y)\\log(1-h_\\Theta(x))$ \n",
        "* Za optimizaciju i trening koristimo iste procedure\n",
        "* [Više o logističkoj regresiji](https://mcerovic.github.io/notes/LogisticRegression/index.html)"
      ]
    },
    {
      "metadata": {
        "id": "95Sfd7ziYXGy",
        "colab_type": "text"
      },
      "cell_type": "markdown",
      "source": [
        "## Primer\n",
        "\n",
        "Dat je skup podataka **logreg_data.csv** sa 200 trening primera i 2 ulazna feature-a. Za svaki primer data je klasa kom pripada (0 ili 1).\n",
        "\n",
        "Istreniraćemo logističku regresiju da za nepoznate primere vrši klasifikaciju.\n"
      ]
    },
    {
      "metadata": {
        "slideshow": {
          "slide_type": "fragment"
        },
        "id": "qthAtzts_2EI",
        "colab_type": "code",
        "colab": {
          "base_uri": "https://localhost:8080/",
          "height": 458
        },
        "outputId": "9e6a389f-d45c-4976-8908-c745f2eebad7"
      },
      "cell_type": "code",
      "source": [
        "%matplotlib inline\n",
        "import tensorflow as tf \n",
        "import matplotlib.pyplot as plt\n",
        "import numpy as np\n",
        "\n",
        "tf.reset_default_graph()\n",
        "\n",
        "# Korak 1: Učitavanje i obrada podataka.\n",
        "filename = 'logreg_data.csv'\n",
        "all_data = np.loadtxt(filename, delimiter=',')\n",
        "data = dict()\n",
        "data['x'] = all_data[:, :2]\n",
        "data['y'] = all_data[:, 2]\n",
        "nb_features = 2\n",
        "\n",
        "# Nasumično mešanje.\n",
        "nb_samples = data['x'].shape[0]\n",
        "indices = np.random.permutation(nb_samples)\n",
        "data['x'] = data['x'][indices]\n",
        "data['y'] = data['y'][indices]\n",
        "\n",
        "# Normalizacija. Ne normalizujemo y!\n",
        "data['x'] = (data['x'] - np.mean(data['x'], axis=0)) / np.std(data['x'], axis=0)\n",
        "# data['y'] = (data['y'] - np.mean(data['y'])) / np.std(data['y'])\n",
        "\n",
        "# Iscrtavanje.\n",
        "idxs = data['y'] == 0.0\n",
        "plt.scatter(data['x'][idxs, 0], data['x'][idxs, 1], c='b', \n",
        "            edgecolors='k', label='Klasa 0')\n",
        "plt.scatter(data['x'][~idxs, 0], data['x'][~idxs, 1], c='g', \n",
        "            edgecolors='k', label='Klasa 1')\n",
        "plt.legend()\n",
        "\n",
        "# Korak 2: Model.\n",
        "X = tf.placeholder(shape=(None, nb_features), dtype=tf.float32)\n",
        "Y = tf.placeholder(shape=(None), dtype=tf.float32)\n",
        "w = tf.Variable(tf.zeros(nb_features))\n",
        "bias = tf.Variable(0.0)\n",
        "\n",
        "w_col = tf.reshape(w, (nb_features, 1))\n",
        "hyp = tf.sigmoid(tf.add(tf.matmul(X, w_col), bias))\n",
        "\n",
        "# Korak 3: Funkcija troška i optimizacija.\n",
        "Y_col = tf.reshape(Y, (-1, 1))\n",
        "loss = tf.reduce_mean(-tf.multiply(Y, tf.log(hyp)) \n",
        "                      -tf.multiply(1.0-Y, tf.log(1.0-hyp)))\n",
        "\n",
        "# Prelazimo na AdamOptimizer jer se prost GradientDescent lose snalazi sa \n",
        "# slozenijim funkcijama.\n",
        "opt_op = tf.train.GradientDescentOptimizer(0.01).minimize(loss)\n",
        "\n",
        "# Korak 4: Trening.\n",
        "with tf.Session() as sess:\n",
        "  sess.run(tf.global_variables_initializer())\n",
        "  \n",
        "  # Izvršavamo 100 epoha treninga.\n",
        "  nb_epochs = 100\n",
        "  for epoch in range(nb_epochs):\n",
        "    epoch_loss = 0\n",
        "    for sample in range(nb_samples):\n",
        "      feed = {X: data['x'][sample].reshape((1, nb_features)), \n",
        "              Y: data['y'][sample]}\n",
        "      _, curr_loss = sess.run([opt_op, loss], feed_dict=feed)\n",
        "      epoch_loss += curr_loss\n",
        "        \n",
        "    # U svakoj desetoj epohi ispisujemo prosečan loss.\n",
        "    epoch_loss /= nb_samples\n",
        "    if (epoch + 1) % 10 == 0:\n",
        "      print('Epoch: {}/{}| Avg loss: {:.5f}'.format(epoch+1, nb_epochs, \n",
        "                                              epoch_loss))\n",
        " \n",
        "  # Ispisujemo i plotujemo finalnu vrednost parametara.\n",
        "  w_val = sess.run(w)\n",
        "  bias_val = sess.run(bias)\n",
        "  print('w = ', w_val, 'bias = ', bias_val)\n",
        "  \n",
        "  # OBJASNI OVU MAGIJU + dodaj evaluaciju verovatnoce\n",
        "  xs = np.linspace(-2.5, 2.5, 10)\n",
        "  ys = (-bias_val - w_val[0]*xs) / w_val[1]\n",
        "  plt.plot(xs.tolist(), ys.tolist(), color='r')\n",
        "  plt.grid(False)\n",
        "  plt.show()"
      ],
      "execution_count": 22,
      "outputs": [
        {
          "output_type": "stream",
          "text": [
            "Epoch: 10/100| Avg loss: 0.17923\n",
            "Epoch: 20/100| Avg loss: 0.15621\n",
            "Epoch: 30/100| Avg loss: 0.14875\n",
            "Epoch: 40/100| Avg loss: 0.14529\n",
            "Epoch: 50/100| Avg loss: 0.14341\n",
            "Epoch: 60/100| Avg loss: 0.14229\n",
            "Epoch: 70/100| Avg loss: 0.14159\n",
            "Epoch: 80/100| Avg loss: 0.14113\n",
            "Epoch: 90/100| Avg loss: 0.14082\n",
            "Epoch: 100/100| Avg loss: 0.14060\n",
            "w =  [3.4585118 2.805336 ] bias =  -0.054843385\n"
          ],
          "name": "stdout"
        },
        {
          "output_type": "display_data",
          "data": {
            "image/png": "[encoded data removed]",
            "text/plain": [
              "<Figure size 432x288 with 1 Axes>"
            ]
          },
          "metadata": {
            "tags": []
          }
        }
      ]
    },
    {
      "metadata": {
        "id": "iepb5x4v-J1A",
        "colab_type": "text"
      },
      "cell_type": "markdown",
      "source": [
        "#Evaluacija modela"
      ]
    },
    {
      "metadata": {
        "id": "a-wWLwjG-U1D",
        "colab_type": "code",
        "colab": {}
      },
      "cell_type": "code",
      "source": [
        "#TODO"
      ],
      "execution_count": 0,
      "outputs": []
    },
    {
      "metadata": {
        "id": "D-K67NAK-Rp7",
        "colab_type": "text"
      },
      "cell_type": "markdown",
      "source": [
        "#Multinomijalna (multiclass) klasifikacija"
      ]
    },
    {
      "metadata": {
        "id": "P71zGHTN-Voy",
        "colab_type": "code",
        "colab": {}
      },
      "cell_type": "code",
      "source": [
        "#TODO"
      ],
      "execution_count": 0,
      "outputs": []
    }
  ]
}