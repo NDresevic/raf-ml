{
  "nbformat": 4,
  "nbformat_minor": 0,
  "metadata": {
    "colab": {
      "name": "07B_OpenCV.sol.ipynb",
      "version": "0.3.2",
      "provenance": [],
      "collapsed_sections": [],
      "toc_visible": true
    },
    "kernelspec": {
      "display_name": "Python 3",
      "language": "python",
      "name": "python3"
    }
  },
  "cells": [
    {
      "cell_type": "markdown",
      "metadata": {
        "slideshow": {
          "slide_type": "slide"
        },
        "id": "2l-OFjBU_2D6",
        "colab_type": "text"
      },
      "source": [
        "# OpenCV"
      ]
    },
    {
      "cell_type": "markdown",
      "metadata": {
        "id": "jglSyj3pCaKa",
        "colab_type": "text"
      },
      "source": [
        "**\"A library of programming functions mainly aimed at real-time computer vision\"**\n",
        "\n"
      ]
    },
    {
      "cell_type": "markdown",
      "metadata": {
        "slideshow": {
          "slide_type": "slide"
        },
        "id": "OFJr40a4_2D8",
        "colab_type": "text"
      },
      "source": [
        "## Pregled\n",
        "* Osnovne operacije sa slikom\n",
        "* Crtanje slike\n",
        "* Prostori boja\n",
        "* Jednostavne transformacije\n",
        "* Thresholdovanje\n",
        "* Konvolucije\n",
        "* Morfološke transformacije\n",
        "* Bounding box\n",
        "* Rad sa videom, background subtraction\n",
        "* Rad sa kamerom, color finder"
      ]
    },
    {
      "cell_type": "markdown",
      "metadata": {
        "id": "rdNxeeJ98sYr",
        "colab_type": "text"
      },
      "source": [
        "## Uvod\n",
        "* OpenCV je jedna od najkorišćenijih biblioteka za *computer vision* - pisana je u C++ ali su naknadno napisani interfejsi za još nekoliko jezika, uključujući i Python\n",
        "* Iako sadrži neke tehnike mašinskog učenja, OpenCV nam je uglavnom koristan u procesu pretprocesiranja i pripreme podataka, kao i za implementaciju okolnih funkcionalnosti koje uz dobar ML model mogu da čine funkcionalnu aplikaciju\n",
        "* **Napomena**: Funkcija za prikaz slike (`cv2.imshow`) ne funkcioniše u Google Colab, pa koristimo posebnu funkciju `google.colab.patches.cv2_imshow` - u slučaju pokretanja ovog koda kao py kod preći na `cv2.imshow`\n",
        "* **Napomena**: Komunikacija sa web kamerom ne funkcioniše u Google Colab, kopirati taj blok koda u `.py` fajl i pokrenuti lokalno"
      ]
    },
    {
      "cell_type": "markdown",
      "metadata": {
        "id": "VTdNpAArhi9b",
        "colab_type": "text"
      },
      "source": [
        "## Import"
      ]
    },
    {
      "cell_type": "code",
      "metadata": {
        "id": "BtyMBv8s8vCx",
        "colab_type": "code",
        "colab": {}
      },
      "source": [
        "# TODO"
      ],
      "execution_count": 0,
      "outputs": []
    },
    {
      "cell_type": "markdown",
      "metadata": {
        "id": "-FOc1jiqOwuu",
        "colab_type": "text"
      },
      "source": [
        "## Osnovne operacije sa slikom"
      ]
    },
    {
      "cell_type": "code",
      "metadata": {
        "id": "9Ne-2wXKOzJD",
        "colab_type": "code",
        "colab": {}
      },
      "source": [
        "# TODO"
      ],
      "execution_count": 0,
      "outputs": []
    },
    {
      "cell_type": "markdown",
      "metadata": {
        "id": "hydluDa5Q3WW",
        "colab_type": "text"
      },
      "source": [
        "## Crtanje slike"
      ]
    },
    {
      "cell_type": "code",
      "metadata": {
        "id": "_kE_Eqd2Q4Qh",
        "colab_type": "code",
        "colab": {}
      },
      "source": [
        "# TODO"
      ],
      "execution_count": 0,
      "outputs": []
    },
    {
      "cell_type": "markdown",
      "metadata": {
        "id": "NZGma6TpRknM",
        "colab_type": "text"
      },
      "source": [
        "## Prostori boja"
      ]
    },
    {
      "cell_type": "code",
      "metadata": {
        "id": "UJvwNrbDRmB1",
        "colab_type": "code",
        "colab": {}
      },
      "source": [
        "# TODO"
      ],
      "execution_count": 0,
      "outputs": []
    },
    {
      "cell_type": "markdown",
      "metadata": {
        "id": "Vlro12zhUi60",
        "colab_type": "text"
      },
      "source": [
        "## Jednostavne transformacije"
      ]
    },
    {
      "cell_type": "code",
      "metadata": {
        "id": "RImlSHNNVvr5",
        "colab_type": "code",
        "colab": {}
      },
      "source": [
        "# TODO"
      ],
      "execution_count": 0,
      "outputs": []
    },
    {
      "cell_type": "code",
      "metadata": {
        "id": "lEfAk96ZUrF3",
        "colab_type": "code",
        "colab": {}
      },
      "source": [
        "# TODO"
      ],
      "execution_count": 0,
      "outputs": []
    },
    {
      "cell_type": "markdown",
      "metadata": {
        "id": "SSx3BLKFXJCA",
        "colab_type": "text"
      },
      "source": [
        "## Thresholdovanje\n",
        "[Dokumentacija svih metoda thresholdovanja](https://docs.opencv.org/3.0-alpha/modules/imgproc/doc/miscellaneous_transformations.html?highlight=thresh_tozero_inv#threshold\n",
        ")"
      ]
    },
    {
      "cell_type": "code",
      "metadata": {
        "id": "SD7Y4wQdXMUd",
        "colab_type": "code",
        "colab": {}
      },
      "source": [
        "# TODO"
      ],
      "execution_count": 0,
      "outputs": []
    },
    {
      "cell_type": "code",
      "metadata": {
        "id": "SKESz_gVZGjt",
        "colab_type": "code",
        "colab": {}
      },
      "source": [
        "# TODO"
      ],
      "execution_count": 0,
      "outputs": []
    },
    {
      "cell_type": "markdown",
      "metadata": {
        "id": "G8qTw5lHbtqb",
        "colab_type": "text"
      },
      "source": [
        "## Konvolucije\n",
        "Primena konvolucije na sliku sa fiksnim kernelima, o čemu je bilo reči u toku priče o CNN\n",
        "\n",
        "\n",
        "[Neki primeri](https://en.wikipedia.org/wiki/Kernel_(image_processing))"
      ]
    },
    {
      "cell_type": "code",
      "metadata": {
        "id": "E6QEfaovcLLg",
        "colab_type": "code",
        "colab": {}
      },
      "source": [
        "# TODO"
      ],
      "execution_count": 0,
      "outputs": []
    },
    {
      "cell_type": "code",
      "metadata": {
        "id": "ZulJHo7tdVbk",
        "colab_type": "code",
        "colab": {}
      },
      "source": [
        "# TODO"
      ],
      "execution_count": 0,
      "outputs": []
    },
    {
      "cell_type": "markdown",
      "metadata": {
        "id": "AguwGezeeHBn",
        "colab_type": "text"
      },
      "source": [
        "## Morfološke transformacije"
      ]
    },
    {
      "cell_type": "code",
      "metadata": {
        "id": "hI-rlVPNeNkJ",
        "colab_type": "code",
        "colab": {}
      },
      "source": [
        "# TODO"
      ],
      "execution_count": 0,
      "outputs": []
    },
    {
      "cell_type": "markdown",
      "metadata": {
        "id": "F3PRs7JqfEaQ",
        "colab_type": "text"
      },
      "source": [
        "## Bounding box"
      ]
    },
    {
      "cell_type": "code",
      "metadata": {
        "id": "nKLGe5glfGJU",
        "colab_type": "code",
        "colab": {}
      },
      "source": [
        "# TODO"
      ],
      "execution_count": 0,
      "outputs": []
    },
    {
      "cell_type": "markdown",
      "metadata": {
        "id": "nMpNMXi5frnx",
        "colab_type": "text"
      },
      "source": [
        "## Rad sa videom, background subtraction\n",
        "- **Pokrenuti u lokalu!**"
      ]
    },
    {
      "cell_type": "code",
      "metadata": {
        "id": "ndZYvrEVfvbk",
        "colab_type": "code",
        "colab": {}
      },
      "source": [
        "# TODO"
      ],
      "execution_count": 0,
      "outputs": []
    },
    {
      "cell_type": "markdown",
      "metadata": {
        "id": "-rD0R2vIgCPL",
        "colab_type": "text"
      },
      "source": [
        "## Rad sa kamerom, color finder\n",
        "- **Pokrenuti u lokalu!**"
      ]
    },
    {
      "cell_type": "code",
      "metadata": {
        "id": "S9neTxYzgPtj",
        "colab_type": "code",
        "colab": {}
      },
      "source": [
        "# TODO"
      ],
      "execution_count": 0,
      "outputs": []
    },
    {
      "cell_type": "markdown",
      "metadata": {
        "id": "_3UYFjUJfox0",
        "colab_type": "text"
      },
      "source": [
        "## Resursi\n",
        "\n",
        "- [Zvanična OpenCV dokumentacija](https://opencv-python-tutroals.readthedocs.io/en/latest/py_tutorials/py_tutorials.html)\n",
        "- Sama dokumentacija funkcija nije toliko dobra, ali postoji veliki broj gotovih tutoriala koji uvode neke od mnogobrojnih algoritama/tehnika prisutnih u OpenCV\n",
        "- Neke od njih koje nismo stigli danas da obradimo:\n",
        "  - [Konture](https://docs.opencv.org/3.3.1/d4/d73/tutorial_py_contours_begin.html)\n",
        "  - [Pronalaženje linija](https://opencv-python-tutroals.readthedocs.io/en/latest/py_tutorials/py_imgproc/py_houghlines/py_houghlines.html#hough-lines)\n",
        "  - [Izdvajanje prednjeg plana (GrabCut)](https://opencv-python-tutroals.readthedocs.io/en/latest/py_tutorials/py_imgproc/py_grabcut/py_grabcut.html#grabcut)\n",
        "  - [Segmentacija slike (watershed)](https://opencv-python-tutroals.readthedocs.io/en/latest/py_tutorials/py_imgproc/py_watershed/py_watershed.html)\n",
        "- [Odličan blog za Computer Vision sa dosta tutoriala i primera: pyimagesearch.com](https://www.pyimagesearch.com/)"
      ]
    }
  ]
}