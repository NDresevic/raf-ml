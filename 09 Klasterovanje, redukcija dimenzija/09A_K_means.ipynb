{
  "nbformat": 4,
  "nbformat_minor": 0,
  "metadata": {
    "colab": {
      "name": "09A_K_means.ipynb",
      "version": "0.3.2",
      "provenance": [],
      "collapsed_sections": []
    },
    "kernelspec": {
      "display_name": "Python 3",
      "language": "python",
      "name": "python3"
    }
  },
  "cells": [
    {
      "cell_type": "markdown",
      "metadata": {
        "slideshow": {
          "slide_type": "slide"
        },
        "id": "2l-OFjBU_2D6",
        "colab_type": "text"
      },
      "source": [
        "#  K Means"
      ]
    },
    {
      "cell_type": "markdown",
      "metadata": {
        "id": "jglSyj3pCaKa",
        "colab_type": "text"
      },
      "source": [
        "**\"A popular clustering method using an iterative refinement technique\"**\n",
        "\n"
      ]
    },
    {
      "cell_type": "markdown",
      "metadata": {
        "slideshow": {
          "slide_type": "slide"
        },
        "id": "OFJr40a4_2D8",
        "colab_type": "text"
      },
      "source": [
        "## Pregled\n",
        "* K Means"
      ]
    },
    {
      "cell_type": "markdown",
      "metadata": {
        "id": "GX67DRtO1EZU",
        "colab_type": "text"
      },
      "source": [
        "## K Means\n",
        "* Prvi algoritam nesuperviziranog učenja\n",
        "* Klasteruje podatke u K klastera, gde je K predefinisana vrednost\n",
        "* Na početku su klasteri odabrani nasumično i izračunati njihovi centroidi\n",
        "* **Assignment step**: svakoj tački dodelimo klaster sa najbližim centroidom (Voronoi particija)\n",
        "* **Update step**: računamo nove centroide za svaki klaster\n",
        "* http://cs229.stanford.edu/notes/cs229-notes7a.pdf\n",
        "* Moguće je da se zaglavimo u lokalnim minimumima, pokrenuti više puta\n"
      ]
    },
    {
      "cell_type": "markdown",
      "metadata": {
        "id": "rdNxeeJ98sYr",
        "colab_type": "text"
      },
      "source": [
        "## Implementacija TF"
      ]
    },
    {
      "cell_type": "code",
      "metadata": {
        "id": "BtyMBv8s8vCx",
        "colab_type": "code",
        "colab": {}
      },
      "source": [
        "# TODO"
      ],
      "execution_count": 0,
      "outputs": []
    }
  ]
}